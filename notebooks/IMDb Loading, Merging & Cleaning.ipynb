{
 "cells": [
  {
   "cell_type": "markdown",
   "metadata": {},
   "source": [
    "# **<center>IMDB | Predicting the Success of a Film Using Historical Data | Sharpest Minds<center>**"
   ]
  },
  {
   "cell_type": "markdown",
   "metadata": {},
   "source": [
    "## Data\n",
    "**Dataset(s):**\n",
    "\n",
    "- IMDb - https://datasets.imdbws.com/\n",
    "- OMDb API - http://www.omdbapi.com/\n",
    "- OpusData - https://www.opusdata.com/home.php\n",
    "- TMDb - https://www.themoviedb.org/documentation/api\n",
    "\n",
    "## **<center>Data Dictionary<center>**\n",
    "Please refer to the online data dictionary documentation for the IMDb dataset: https://bigspans.com/wp-content/uploads/2020/10/Documentation-Data-Dictionary-IMDb-and-Box-Office-Mojo.pdf\n",
    "    \n",
    "       \n",
    "## **<center>Problem Statement:<center>**\n",
    "\n",
    "### **<center>How can we predict the success of a film using historical data?<center>**\n",
    "<br>\n",
    "    \n",
    "<br>\n",
    "\n",
    "## **<center>Goal(s):<center>**\n",
    "    \n",
    "**Define Success:**\n",
    "- 1. Gross Reveue (Profits)\n",
    "- 2. Rating\n",
    "- 3. Award nomimations and wins\n",
    "\n",
    "**What departments, jobs, or individuals have the most effect on determining the success of a film?**\n",
    "    \n",
    "**What are the most successful: ?**\n",
    "- 1. Genres\n",
    "- 2. Studios (Independent, Mainstream, etc.)\n",
    "- 3. Production Companies\n",
    "- 4. Locations\n",
    "- 5. N/A\n",
    "\n",
    "\n",
    "\n",
    "## **<center>Index:<center>**\n",
    "**1. Loading and merging datasets**\n",
    "\n",
    "**2. Cleaning**\n",
    "\n",
    "**3. EDA**\n",
    "\n",
    "**4. Modeling**\n",
    "\n",
    "**5. Findings & Summary**\n",
    "\n",
    "## **<center>Field(s) of Interest:<center>**\n",
    "\n",
    "### Target Variables:\n",
    "\n",
    "1. **Revenue** - (Continuous Variable)\n",
    "2. **Rating** - (Continuous Variable)\n",
    "\n",
    "### Predictive Problem Type:\n",
    "1. Regression\n",
    "2. Classification (blockbuster or flop)\n",
    "    \n",
    "*note: Classification is the task of predicting a discrete class label. Regression is the task of predicting a continuous quantity.*\n",
    "\n",
    "### Predictive Algorithms:\n",
    "\n",
    "1. Linear Regression\n",
    "2. Random Forests\n",
    "3. XGBoost\n"
   ]
  },
  {
   "cell_type": "code",
   "execution_count": 1,
   "metadata": {
    "tags": []
   },
   "outputs": [],
   "source": [
    "import pandas as pd\n",
    "import numpy as np\n",
    "import matplotlib.pyplot as plt\n",
    "import seaborn as sns\n",
    "from scipy.stats import norm\n",
    "from scipy import stats\n",
    "from ast import literal_eval\n",
    "from typing import Dict, List\n",
    "from collections import Counter\n",
    "import ast\n",
    "import re\n",
    "import json\n",
    "import nltk\n",
    "import re\n",
    "import csv\n",
    "import math\n",
    "from sklearn.feature_extraction.text import TfidfVectorizer\n",
    "from sklearn.model_selection import train_test_split\n",
    "\n",
    "%matplotlib inline\n",
    "\n",
    "import warnings; warnings.simplefilter('ignore')"
   ]
  },
  {
   "cell_type": "markdown",
   "metadata": {},
   "source": [
    "# 1. Load & Merge Data"
   ]
  },
  {
   "cell_type": "code",
   "execution_count": 2,
   "metadata": {
    "tags": []
   },
   "outputs": [],
   "source": [
    "col_list = [\"id\", \"imdb_id\", \"title\", \"budget\", \"revenue\",\n",
    "            \"release_date\", \"genres\", \"belongs_to_collection\", \"production_companies\",\n",
    "            \"production_countries\", \"runtime\"]\n",
    "\n",
    "imdb_metadata = pd.read_csv('../data/raw/movies_metadata.csv', usecols=col_list)\n",
    "imdb_credits = pd.read_csv('../data/raw/credits.csv')\n",
    "imdb_ratings = pd.read_csv('../data/raw/ratings.csv')"
   ]
  },
  {
   "cell_type": "markdown",
   "metadata": {},
   "source": [
    "## Metadata"
   ]
  },
  {
   "cell_type": "code",
   "execution_count": 3,
   "metadata": {},
   "outputs": [],
   "source": [
    "imdb_metadata = imdb_metadata[[\"id\", \"imdb_id\", \"title\", \"budget\", \"revenue\",\n",
    "            \"release_date\", \"genres\", \"belongs_to_collection\", \"production_companies\",\n",
    "            \"production_countries\", \"runtime\"]].copy()"
   ]
  },
  {
   "cell_type": "code",
   "execution_count": 4,
   "metadata": {},
   "outputs": [
    {
     "data": {
      "text/html": [
       "<div>\n",
       "<style scoped>\n",
       "    .dataframe tbody tr th:only-of-type {\n",
       "        vertical-align: middle;\n",
       "    }\n",
       "\n",
       "    .dataframe tbody tr th {\n",
       "        vertical-align: top;\n",
       "    }\n",
       "\n",
       "    .dataframe thead th {\n",
       "        text-align: right;\n",
       "    }\n",
       "</style>\n",
       "<table border=\"1\" class=\"dataframe\">\n",
       "  <thead>\n",
       "    <tr style=\"text-align: right;\">\n",
       "      <th></th>\n",
       "      <th>id</th>\n",
       "      <th>imdb_id</th>\n",
       "      <th>title</th>\n",
       "      <th>budget</th>\n",
       "      <th>revenue</th>\n",
       "      <th>release_date</th>\n",
       "      <th>genres</th>\n",
       "      <th>belongs_to_collection</th>\n",
       "      <th>production_companies</th>\n",
       "      <th>production_countries</th>\n",
       "      <th>runtime</th>\n",
       "    </tr>\n",
       "  </thead>\n",
       "  <tbody>\n",
       "    <tr>\n",
       "      <th>0</th>\n",
       "      <td>862</td>\n",
       "      <td>tt0114709</td>\n",
       "      <td>Toy Story</td>\n",
       "      <td>30000000</td>\n",
       "      <td>373554033.0</td>\n",
       "      <td>1995-10-30</td>\n",
       "      <td>[{'id': 16, 'name': 'Animation'}, {'id': 35, '...</td>\n",
       "      <td>{'id': 10194, 'name': 'Toy Story Collection', ...</td>\n",
       "      <td>[{'name': 'Pixar Animation Studios', 'id': 3}]</td>\n",
       "      <td>[{'iso_3166_1': 'US', 'name': 'United States o...</td>\n",
       "      <td>81.0</td>\n",
       "    </tr>\n",
       "    <tr>\n",
       "      <th>1</th>\n",
       "      <td>8844</td>\n",
       "      <td>tt0113497</td>\n",
       "      <td>Jumanji</td>\n",
       "      <td>65000000</td>\n",
       "      <td>262797249.0</td>\n",
       "      <td>1995-12-15</td>\n",
       "      <td>[{'id': 12, 'name': 'Adventure'}, {'id': 14, '...</td>\n",
       "      <td>NaN</td>\n",
       "      <td>[{'name': 'TriStar Pictures', 'id': 559}, {'na...</td>\n",
       "      <td>[{'iso_3166_1': 'US', 'name': 'United States o...</td>\n",
       "      <td>104.0</td>\n",
       "    </tr>\n",
       "    <tr>\n",
       "      <th>2</th>\n",
       "      <td>15602</td>\n",
       "      <td>tt0113228</td>\n",
       "      <td>Grumpier Old Men</td>\n",
       "      <td>0</td>\n",
       "      <td>0.0</td>\n",
       "      <td>1995-12-22</td>\n",
       "      <td>[{'id': 10749, 'name': 'Romance'}, {'id': 35, ...</td>\n",
       "      <td>{'id': 119050, 'name': 'Grumpy Old Men Collect...</td>\n",
       "      <td>[{'name': 'Warner Bros.', 'id': 6194}, {'name'...</td>\n",
       "      <td>[{'iso_3166_1': 'US', 'name': 'United States o...</td>\n",
       "      <td>101.0</td>\n",
       "    </tr>\n",
       "    <tr>\n",
       "      <th>3</th>\n",
       "      <td>31357</td>\n",
       "      <td>tt0114885</td>\n",
       "      <td>Waiting to Exhale</td>\n",
       "      <td>16000000</td>\n",
       "      <td>81452156.0</td>\n",
       "      <td>1995-12-22</td>\n",
       "      <td>[{'id': 35, 'name': 'Comedy'}, {'id': 18, 'nam...</td>\n",
       "      <td>NaN</td>\n",
       "      <td>[{'name': 'Twentieth Century Fox Film Corporat...</td>\n",
       "      <td>[{'iso_3166_1': 'US', 'name': 'United States o...</td>\n",
       "      <td>127.0</td>\n",
       "    </tr>\n",
       "    <tr>\n",
       "      <th>4</th>\n",
       "      <td>11862</td>\n",
       "      <td>tt0113041</td>\n",
       "      <td>Father of the Bride Part II</td>\n",
       "      <td>0</td>\n",
       "      <td>76578911.0</td>\n",
       "      <td>1995-02-10</td>\n",
       "      <td>[{'id': 35, 'name': 'Comedy'}]</td>\n",
       "      <td>{'id': 96871, 'name': 'Father of the Bride Col...</td>\n",
       "      <td>[{'name': 'Sandollar Productions', 'id': 5842}...</td>\n",
       "      <td>[{'iso_3166_1': 'US', 'name': 'United States o...</td>\n",
       "      <td>106.0</td>\n",
       "    </tr>\n",
       "  </tbody>\n",
       "</table>\n",
       "</div>"
      ],
      "text/plain": [
       "      id    imdb_id                        title    budget      revenue  \\\n",
       "0    862  tt0114709                    Toy Story  30000000  373554033.0   \n",
       "1   8844  tt0113497                      Jumanji  65000000  262797249.0   \n",
       "2  15602  tt0113228             Grumpier Old Men         0          0.0   \n",
       "3  31357  tt0114885            Waiting to Exhale  16000000   81452156.0   \n",
       "4  11862  tt0113041  Father of the Bride Part II         0   76578911.0   \n",
       "\n",
       "  release_date                                             genres  \\\n",
       "0   1995-10-30  [{'id': 16, 'name': 'Animation'}, {'id': 35, '...   \n",
       "1   1995-12-15  [{'id': 12, 'name': 'Adventure'}, {'id': 14, '...   \n",
       "2   1995-12-22  [{'id': 10749, 'name': 'Romance'}, {'id': 35, ...   \n",
       "3   1995-12-22  [{'id': 35, 'name': 'Comedy'}, {'id': 18, 'nam...   \n",
       "4   1995-02-10                     [{'id': 35, 'name': 'Comedy'}]   \n",
       "\n",
       "                               belongs_to_collection  \\\n",
       "0  {'id': 10194, 'name': 'Toy Story Collection', ...   \n",
       "1                                                NaN   \n",
       "2  {'id': 119050, 'name': 'Grumpy Old Men Collect...   \n",
       "3                                                NaN   \n",
       "4  {'id': 96871, 'name': 'Father of the Bride Col...   \n",
       "\n",
       "                                production_companies  \\\n",
       "0     [{'name': 'Pixar Animation Studios', 'id': 3}]   \n",
       "1  [{'name': 'TriStar Pictures', 'id': 559}, {'na...   \n",
       "2  [{'name': 'Warner Bros.', 'id': 6194}, {'name'...   \n",
       "3  [{'name': 'Twentieth Century Fox Film Corporat...   \n",
       "4  [{'name': 'Sandollar Productions', 'id': 5842}...   \n",
       "\n",
       "                                production_countries  runtime  \n",
       "0  [{'iso_3166_1': 'US', 'name': 'United States o...     81.0  \n",
       "1  [{'iso_3166_1': 'US', 'name': 'United States o...    104.0  \n",
       "2  [{'iso_3166_1': 'US', 'name': 'United States o...    101.0  \n",
       "3  [{'iso_3166_1': 'US', 'name': 'United States o...    127.0  \n",
       "4  [{'iso_3166_1': 'US', 'name': 'United States o...    106.0  "
      ]
     },
     "execution_count": 4,
     "metadata": {},
     "output_type": "execute_result"
    }
   ],
   "source": [
    "imdb_metadata.head()"
   ]
  },
  {
   "cell_type": "markdown",
   "metadata": {},
   "source": [
    "Dataframe Size and Shape"
   ]
  },
  {
   "cell_type": "code",
   "execution_count": 5,
   "metadata": {
    "tags": []
   },
   "outputs": [
    {
     "data": {
      "text/plain": [
       "(45466, 11)"
      ]
     },
     "execution_count": 5,
     "metadata": {},
     "output_type": "execute_result"
    }
   ],
   "source": [
    "imdb_metadata.shape"
   ]
  },
  {
   "cell_type": "markdown",
   "metadata": {},
   "source": [
    "**45,466 rows and 11 features**"
   ]
  },
  {
   "cell_type": "markdown",
   "metadata": {},
   "source": [
    "Features & Data Types"
   ]
  },
  {
   "cell_type": "code",
   "execution_count": 6,
   "metadata": {
    "tags": []
   },
   "outputs": [
    {
     "data": {
      "text/plain": [
       "id                        object\n",
       "imdb_id                   object\n",
       "title                     object\n",
       "budget                    object\n",
       "revenue                  float64\n",
       "release_date              object\n",
       "genres                    object\n",
       "belongs_to_collection     object\n",
       "production_companies      object\n",
       "production_countries      object\n",
       "runtime                  float64\n",
       "dtype: object"
      ]
     },
     "execution_count": 6,
     "metadata": {},
     "output_type": "execute_result"
    }
   ],
   "source": [
    "imdb_metadata.dtypes"
   ]
  },
  {
   "cell_type": "markdown",
   "metadata": {},
   "source": [
    "**To Do:** Extract the nested list of dictionaries from the `belongs_to_collection`, `production_companies`, and `production_countries`"
   ]
  },
  {
   "cell_type": "markdown",
   "metadata": {},
   "source": [
    "## Credits"
   ]
  },
  {
   "cell_type": "markdown",
   "metadata": {},
   "source": [
    "I want to also include the `Cast` and `Crew` as a feature, but these instances are nested. I will extract the relevant column(s) and transform it into a workable format."
   ]
  },
  {
   "cell_type": "code",
   "execution_count": 7,
   "metadata": {
    "tags": []
   },
   "outputs": [
    {
     "data": {
      "text/html": [
       "<div>\n",
       "<style scoped>\n",
       "    .dataframe tbody tr th:only-of-type {\n",
       "        vertical-align: middle;\n",
       "    }\n",
       "\n",
       "    .dataframe tbody tr th {\n",
       "        vertical-align: top;\n",
       "    }\n",
       "\n",
       "    .dataframe thead th {\n",
       "        text-align: right;\n",
       "    }\n",
       "</style>\n",
       "<table border=\"1\" class=\"dataframe\">\n",
       "  <thead>\n",
       "    <tr style=\"text-align: right;\">\n",
       "      <th></th>\n",
       "      <th>cast</th>\n",
       "      <th>crew</th>\n",
       "      <th>id</th>\n",
       "    </tr>\n",
       "  </thead>\n",
       "  <tbody>\n",
       "    <tr>\n",
       "      <th>0</th>\n",
       "      <td>[{'cast_id': 14, 'character': 'Woody (voice)',...</td>\n",
       "      <td>[{'credit_id': '52fe4284c3a36847f8024f49', 'de...</td>\n",
       "      <td>862</td>\n",
       "    </tr>\n",
       "    <tr>\n",
       "      <th>1</th>\n",
       "      <td>[{'cast_id': 1, 'character': 'Alan Parrish', '...</td>\n",
       "      <td>[{'credit_id': '52fe44bfc3a36847f80a7cd1', 'de...</td>\n",
       "      <td>8844</td>\n",
       "    </tr>\n",
       "    <tr>\n",
       "      <th>2</th>\n",
       "      <td>[{'cast_id': 2, 'character': 'Max Goldman', 'c...</td>\n",
       "      <td>[{'credit_id': '52fe466a9251416c75077a89', 'de...</td>\n",
       "      <td>15602</td>\n",
       "    </tr>\n",
       "    <tr>\n",
       "      <th>3</th>\n",
       "      <td>[{'cast_id': 1, 'character': \"Savannah 'Vannah...</td>\n",
       "      <td>[{'credit_id': '52fe44779251416c91011acb', 'de...</td>\n",
       "      <td>31357</td>\n",
       "    </tr>\n",
       "    <tr>\n",
       "      <th>4</th>\n",
       "      <td>[{'cast_id': 1, 'character': 'George Banks', '...</td>\n",
       "      <td>[{'credit_id': '52fe44959251416c75039ed7', 'de...</td>\n",
       "      <td>11862</td>\n",
       "    </tr>\n",
       "  </tbody>\n",
       "</table>\n",
       "</div>"
      ],
      "text/plain": [
       "                                                cast  \\\n",
       "0  [{'cast_id': 14, 'character': 'Woody (voice)',...   \n",
       "1  [{'cast_id': 1, 'character': 'Alan Parrish', '...   \n",
       "2  [{'cast_id': 2, 'character': 'Max Goldman', 'c...   \n",
       "3  [{'cast_id': 1, 'character': \"Savannah 'Vannah...   \n",
       "4  [{'cast_id': 1, 'character': 'George Banks', '...   \n",
       "\n",
       "                                                crew     id  \n",
       "0  [{'credit_id': '52fe4284c3a36847f8024f49', 'de...    862  \n",
       "1  [{'credit_id': '52fe44bfc3a36847f80a7cd1', 'de...   8844  \n",
       "2  [{'credit_id': '52fe466a9251416c75077a89', 'de...  15602  \n",
       "3  [{'credit_id': '52fe44779251416c91011acb', 'de...  31357  \n",
       "4  [{'credit_id': '52fe44959251416c75039ed7', 'de...  11862  "
      ]
     },
     "execution_count": 7,
     "metadata": {},
     "output_type": "execute_result"
    }
   ],
   "source": [
    "imdb_credits.head()"
   ]
  },
  {
   "cell_type": "markdown",
   "metadata": {},
   "source": [
    "Columns and Data Types"
   ]
  },
  {
   "cell_type": "code",
   "execution_count": 8,
   "metadata": {},
   "outputs": [
    {
     "data": {
      "text/plain": [
       "cast    object\n",
       "crew    object\n",
       "id       int64\n",
       "dtype: object"
      ]
     },
     "execution_count": 8,
     "metadata": {},
     "output_type": "execute_result"
    }
   ],
   "source": [
    "imdb_credits.dtypes"
   ]
  },
  {
   "cell_type": "markdown",
   "metadata": {},
   "source": [
    "Use a for loop to separate out the relevant elements."
   ]
  },
  {
   "cell_type": "code",
   "execution_count": 9,
   "metadata": {},
   "outputs": [],
   "source": [
    "cast_df = []\n",
    "crew_df = []\n",
    "\n",
    "for i in range(imdb_credits.shape[0]):\n",
    "    cast = eval(imdb_credits['cast'][i])\n",
    "    for x in cast:\n",
    "        x['movie_id'] = imdb_credits['id'][i]\n",
    "    crew = eval(imdb_credits['crew'][i])\n",
    "    for x in crew:\n",
    "        x['movie_id'] = imdb_credits['id'][i]\n",
    "    cast_df.extend(cast)\n",
    "    crew_df.extend(crew)\n",
    "\n",
    "cast_df = pd.DataFrame(cast_df)\n",
    "crew_df = pd.DataFrame(crew_df)"
   ]
  },
  {
   "cell_type": "code",
   "execution_count": 10,
   "metadata": {},
   "outputs": [
    {
     "data": {
      "text/html": [
       "<div>\n",
       "<style scoped>\n",
       "    .dataframe tbody tr th:only-of-type {\n",
       "        vertical-align: middle;\n",
       "    }\n",
       "\n",
       "    .dataframe tbody tr th {\n",
       "        vertical-align: top;\n",
       "    }\n",
       "\n",
       "    .dataframe thead th {\n",
       "        text-align: right;\n",
       "    }\n",
       "</style>\n",
       "<table border=\"1\" class=\"dataframe\">\n",
       "  <thead>\n",
       "    <tr style=\"text-align: right;\">\n",
       "      <th></th>\n",
       "      <th>credit_id</th>\n",
       "      <th>department</th>\n",
       "      <th>gender</th>\n",
       "      <th>id</th>\n",
       "      <th>job</th>\n",
       "      <th>name</th>\n",
       "      <th>profile_path</th>\n",
       "      <th>movie_id</th>\n",
       "    </tr>\n",
       "  </thead>\n",
       "  <tbody>\n",
       "    <tr>\n",
       "      <th>0</th>\n",
       "      <td>52fe4284c3a36847f8024f49</td>\n",
       "      <td>Directing</td>\n",
       "      <td>2</td>\n",
       "      <td>7879</td>\n",
       "      <td>Director</td>\n",
       "      <td>John Lasseter</td>\n",
       "      <td>/7EdqiNbr4FRjIhKHyPPdFfEEEFG.jpg</td>\n",
       "      <td>862</td>\n",
       "    </tr>\n",
       "    <tr>\n",
       "      <th>1</th>\n",
       "      <td>52fe4284c3a36847f8024f4f</td>\n",
       "      <td>Writing</td>\n",
       "      <td>2</td>\n",
       "      <td>12891</td>\n",
       "      <td>Screenplay</td>\n",
       "      <td>Joss Whedon</td>\n",
       "      <td>/dTiVsuaTVTeGmvkhcyJvKp2A5kr.jpg</td>\n",
       "      <td>862</td>\n",
       "    </tr>\n",
       "    <tr>\n",
       "      <th>2</th>\n",
       "      <td>52fe4284c3a36847f8024f55</td>\n",
       "      <td>Writing</td>\n",
       "      <td>2</td>\n",
       "      <td>7</td>\n",
       "      <td>Screenplay</td>\n",
       "      <td>Andrew Stanton</td>\n",
       "      <td>/pvQWsu0qc8JFQhMVJkTHuexUAa1.jpg</td>\n",
       "      <td>862</td>\n",
       "    </tr>\n",
       "    <tr>\n",
       "      <th>3</th>\n",
       "      <td>52fe4284c3a36847f8024f5b</td>\n",
       "      <td>Writing</td>\n",
       "      <td>2</td>\n",
       "      <td>12892</td>\n",
       "      <td>Screenplay</td>\n",
       "      <td>Joel Cohen</td>\n",
       "      <td>/dAubAiZcvKFbboWlj7oXOkZnTSu.jpg</td>\n",
       "      <td>862</td>\n",
       "    </tr>\n",
       "    <tr>\n",
       "      <th>4</th>\n",
       "      <td>52fe4284c3a36847f8024f61</td>\n",
       "      <td>Writing</td>\n",
       "      <td>0</td>\n",
       "      <td>12893</td>\n",
       "      <td>Screenplay</td>\n",
       "      <td>Alec Sokolow</td>\n",
       "      <td>/v79vlRYi94BZUQnkkyznbGUZLjT.jpg</td>\n",
       "      <td>862</td>\n",
       "    </tr>\n",
       "  </tbody>\n",
       "</table>\n",
       "</div>"
      ],
      "text/plain": [
       "                  credit_id department  gender     id         job  \\\n",
       "0  52fe4284c3a36847f8024f49  Directing       2   7879    Director   \n",
       "1  52fe4284c3a36847f8024f4f    Writing       2  12891  Screenplay   \n",
       "2  52fe4284c3a36847f8024f55    Writing       2      7  Screenplay   \n",
       "3  52fe4284c3a36847f8024f5b    Writing       2  12892  Screenplay   \n",
       "4  52fe4284c3a36847f8024f61    Writing       0  12893  Screenplay   \n",
       "\n",
       "             name                      profile_path  movie_id  \n",
       "0   John Lasseter  /7EdqiNbr4FRjIhKHyPPdFfEEEFG.jpg       862  \n",
       "1     Joss Whedon  /dTiVsuaTVTeGmvkhcyJvKp2A5kr.jpg       862  \n",
       "2  Andrew Stanton  /pvQWsu0qc8JFQhMVJkTHuexUAa1.jpg       862  \n",
       "3      Joel Cohen  /dAubAiZcvKFbboWlj7oXOkZnTSu.jpg       862  \n",
       "4    Alec Sokolow  /v79vlRYi94BZUQnkkyznbGUZLjT.jpg       862  "
      ]
     },
     "execution_count": 10,
     "metadata": {},
     "output_type": "execute_result"
    }
   ],
   "source": [
    "crew_df.head()"
   ]
  },
  {
   "cell_type": "code",
   "execution_count": 11,
   "metadata": {},
   "outputs": [
    {
     "data": {
      "text/plain": [
       "(464314, 8)"
      ]
     },
     "execution_count": 11,
     "metadata": {},
     "output_type": "execute_result"
    }
   ],
   "source": [
    "crew_df.shape"
   ]
  },
  {
   "cell_type": "code",
   "execution_count": 12,
   "metadata": {},
   "outputs": [
    {
     "data": {
      "text/html": [
       "<div>\n",
       "<style scoped>\n",
       "    .dataframe tbody tr th:only-of-type {\n",
       "        vertical-align: middle;\n",
       "    }\n",
       "\n",
       "    .dataframe tbody tr th {\n",
       "        vertical-align: top;\n",
       "    }\n",
       "\n",
       "    .dataframe thead th {\n",
       "        text-align: right;\n",
       "    }\n",
       "</style>\n",
       "<table border=\"1\" class=\"dataframe\">\n",
       "  <thead>\n",
       "    <tr style=\"text-align: right;\">\n",
       "      <th></th>\n",
       "      <th>cast_id</th>\n",
       "      <th>character</th>\n",
       "      <th>credit_id</th>\n",
       "      <th>gender</th>\n",
       "      <th>id</th>\n",
       "      <th>name</th>\n",
       "      <th>order</th>\n",
       "      <th>profile_path</th>\n",
       "      <th>movie_id</th>\n",
       "    </tr>\n",
       "  </thead>\n",
       "  <tbody>\n",
       "    <tr>\n",
       "      <th>0</th>\n",
       "      <td>14</td>\n",
       "      <td>Woody (voice)</td>\n",
       "      <td>52fe4284c3a36847f8024f95</td>\n",
       "      <td>2</td>\n",
       "      <td>31</td>\n",
       "      <td>Tom Hanks</td>\n",
       "      <td>0</td>\n",
       "      <td>/pQFoyx7rp09CJTAb932F2g8Nlho.jpg</td>\n",
       "      <td>862</td>\n",
       "    </tr>\n",
       "    <tr>\n",
       "      <th>1</th>\n",
       "      <td>15</td>\n",
       "      <td>Buzz Lightyear (voice)</td>\n",
       "      <td>52fe4284c3a36847f8024f99</td>\n",
       "      <td>2</td>\n",
       "      <td>12898</td>\n",
       "      <td>Tim Allen</td>\n",
       "      <td>1</td>\n",
       "      <td>/uX2xVf6pMmPepxnvFWyBtjexzgY.jpg</td>\n",
       "      <td>862</td>\n",
       "    </tr>\n",
       "    <tr>\n",
       "      <th>2</th>\n",
       "      <td>16</td>\n",
       "      <td>Mr. Potato Head (voice)</td>\n",
       "      <td>52fe4284c3a36847f8024f9d</td>\n",
       "      <td>2</td>\n",
       "      <td>7167</td>\n",
       "      <td>Don Rickles</td>\n",
       "      <td>2</td>\n",
       "      <td>/h5BcaDMPRVLHLDzbQavec4xfSdt.jpg</td>\n",
       "      <td>862</td>\n",
       "    </tr>\n",
       "    <tr>\n",
       "      <th>3</th>\n",
       "      <td>17</td>\n",
       "      <td>Slinky Dog (voice)</td>\n",
       "      <td>52fe4284c3a36847f8024fa1</td>\n",
       "      <td>2</td>\n",
       "      <td>12899</td>\n",
       "      <td>Jim Varney</td>\n",
       "      <td>3</td>\n",
       "      <td>/eIo2jVVXYgjDtaHoF19Ll9vtW7h.jpg</td>\n",
       "      <td>862</td>\n",
       "    </tr>\n",
       "    <tr>\n",
       "      <th>4</th>\n",
       "      <td>18</td>\n",
       "      <td>Rex (voice)</td>\n",
       "      <td>52fe4284c3a36847f8024fa5</td>\n",
       "      <td>2</td>\n",
       "      <td>12900</td>\n",
       "      <td>Wallace Shawn</td>\n",
       "      <td>4</td>\n",
       "      <td>/oGE6JqPP2xH4tNORKNqxbNPYi7u.jpg</td>\n",
       "      <td>862</td>\n",
       "    </tr>\n",
       "  </tbody>\n",
       "</table>\n",
       "</div>"
      ],
      "text/plain": [
       "   cast_id                character                 credit_id  gender     id  \\\n",
       "0       14            Woody (voice)  52fe4284c3a36847f8024f95       2     31   \n",
       "1       15   Buzz Lightyear (voice)  52fe4284c3a36847f8024f99       2  12898   \n",
       "2       16  Mr. Potato Head (voice)  52fe4284c3a36847f8024f9d       2   7167   \n",
       "3       17       Slinky Dog (voice)  52fe4284c3a36847f8024fa1       2  12899   \n",
       "4       18              Rex (voice)  52fe4284c3a36847f8024fa5       2  12900   \n",
       "\n",
       "            name  order                      profile_path  movie_id  \n",
       "0      Tom Hanks      0  /pQFoyx7rp09CJTAb932F2g8Nlho.jpg       862  \n",
       "1      Tim Allen      1  /uX2xVf6pMmPepxnvFWyBtjexzgY.jpg       862  \n",
       "2    Don Rickles      2  /h5BcaDMPRVLHLDzbQavec4xfSdt.jpg       862  \n",
       "3     Jim Varney      3  /eIo2jVVXYgjDtaHoF19Ll9vtW7h.jpg       862  \n",
       "4  Wallace Shawn      4  /oGE6JqPP2xH4tNORKNqxbNPYi7u.jpg       862  "
      ]
     },
     "execution_count": 12,
     "metadata": {},
     "output_type": "execute_result"
    }
   ],
   "source": [
    "cast_df.head()"
   ]
  },
  {
   "cell_type": "code",
   "execution_count": 13,
   "metadata": {
    "tags": []
   },
   "outputs": [
    {
     "data": {
      "text/plain": [
       "(562474, 9)"
      ]
     },
     "execution_count": 13,
     "metadata": {},
     "output_type": "execute_result"
    }
   ],
   "source": [
    "cast_df.shape"
   ]
  },
  {
   "cell_type": "markdown",
   "metadata": {},
   "source": [
    "There is a difference in size for both of these dataframes. It would be interesting to look at the Crew to Cast ratios... Not sure what could be done with that information just yet... It could potentially help production(s) find the sweet spot for how much \"people-power\" you need for a scene(s) - based on location (interior vs. exterior) (i.e. exterior locations need more people to control the enviroment (lock-ups))."
   ]
  },
  {
   "cell_type": "markdown",
   "metadata": {},
   "source": [
    "## Ratings"
   ]
  },
  {
   "cell_type": "code",
   "execution_count": 14,
   "metadata": {
    "tags": []
   },
   "outputs": [
    {
     "data": {
      "text/html": [
       "<div>\n",
       "<style scoped>\n",
       "    .dataframe tbody tr th:only-of-type {\n",
       "        vertical-align: middle;\n",
       "    }\n",
       "\n",
       "    .dataframe tbody tr th {\n",
       "        vertical-align: top;\n",
       "    }\n",
       "\n",
       "    .dataframe thead th {\n",
       "        text-align: right;\n",
       "    }\n",
       "</style>\n",
       "<table border=\"1\" class=\"dataframe\">\n",
       "  <thead>\n",
       "    <tr style=\"text-align: right;\">\n",
       "      <th></th>\n",
       "      <th>userId</th>\n",
       "      <th>movieId</th>\n",
       "      <th>rating</th>\n",
       "      <th>timestamp</th>\n",
       "    </tr>\n",
       "  </thead>\n",
       "  <tbody>\n",
       "    <tr>\n",
       "      <th>0</th>\n",
       "      <td>1</td>\n",
       "      <td>110</td>\n",
       "      <td>1.0</td>\n",
       "      <td>1425941529</td>\n",
       "    </tr>\n",
       "    <tr>\n",
       "      <th>1</th>\n",
       "      <td>1</td>\n",
       "      <td>147</td>\n",
       "      <td>4.5</td>\n",
       "      <td>1425942435</td>\n",
       "    </tr>\n",
       "    <tr>\n",
       "      <th>2</th>\n",
       "      <td>1</td>\n",
       "      <td>858</td>\n",
       "      <td>5.0</td>\n",
       "      <td>1425941523</td>\n",
       "    </tr>\n",
       "    <tr>\n",
       "      <th>3</th>\n",
       "      <td>1</td>\n",
       "      <td>1221</td>\n",
       "      <td>5.0</td>\n",
       "      <td>1425941546</td>\n",
       "    </tr>\n",
       "    <tr>\n",
       "      <th>4</th>\n",
       "      <td>1</td>\n",
       "      <td>1246</td>\n",
       "      <td>5.0</td>\n",
       "      <td>1425941556</td>\n",
       "    </tr>\n",
       "  </tbody>\n",
       "</table>\n",
       "</div>"
      ],
      "text/plain": [
       "   userId  movieId  rating   timestamp\n",
       "0       1      110     1.0  1425941529\n",
       "1       1      147     4.5  1425942435\n",
       "2       1      858     5.0  1425941523\n",
       "3       1     1221     5.0  1425941546\n",
       "4       1     1246     5.0  1425941556"
      ]
     },
     "execution_count": 14,
     "metadata": {},
     "output_type": "execute_result"
    }
   ],
   "source": [
    "imdb_ratings.head()"
   ]
  },
  {
   "cell_type": "code",
   "execution_count": 15,
   "metadata": {
    "tags": []
   },
   "outputs": [
    {
     "data": {
      "text/plain": [
       "(26024289, 4)"
      ]
     },
     "execution_count": 15,
     "metadata": {},
     "output_type": "execute_result"
    }
   ],
   "source": [
    "imdb_ratings.shape"
   ]
  },
  {
   "cell_type": "markdown",
   "metadata": {},
   "source": [
    "The ratings dataset seems to contain each singular review that has been casted for a film. So in total there are 26,024,289 reviews for all of the films within this dataset. To validate this hypothesis, I will do a value count for each unique `movieId`"
   ]
  },
  {
   "cell_type": "markdown",
   "metadata": {},
   "source": [
    "The total movies that have been rated are well within range of what is to be expected for movie id totals."
   ]
  },
  {
   "cell_type": "markdown",
   "metadata": {},
   "source": [
    "## **Summary**"
   ]
  },
  {
   "cell_type": "markdown",
   "metadata": {},
   "source": [
    "The key dataset(s) to be used for further analysis and prediction are `imdb_metadata`, `imdb_credits`, and `imdb_ratings`. The **metadata** will be used as ***independent variables (i.e. genre, budget, revenue, etc.)***, the **credits** will be ***dependent variables***, and the **ratings** will be merged with additional ratings data (Rotten Tamotes, MetaCritic, etc.), which will be scaled (1-10 scale?), and then combined with the *independent variables* for a more conclusive analysis."
   ]
  },
  {
   "cell_type": "markdown",
   "metadata": {},
   "source": [
    "# 2. Data Cleaning & Preparation"
   ]
  },
  {
   "cell_type": "markdown",
   "metadata": {},
   "source": [
    "## Data Quality\n",
    "\n",
    "**Questions to keep in mind for preprocessing:**\n",
    "1. What are the distributions of the key features?\n",
    "2. How many missing values are there? *(blank, np.NaN, etc.)*\n",
    "3. How missing values be handled?\n",
    "4. Are there outliers?\n",
    "5. Are any input values highly correlated?\n",
    "6. What features exist in the input data and which features should be engineered?\n",
    "7. Is there enough data?\n",
    "8. How can we augment the dataset?\n",
    "9. Is there bias in the dataset?\n",
    "10. Formatting - is our data presented in a way that makes sense?  Are the variable types correct?\n",
    "11. Validity - Are there any values that seem incorrect/nonsensical?\n",
    "\n",
    "**Visualizations:**\n",
    "1. Density plots and histograms to understand the spread of different input values.\n",
    "2. Box plots to identify outliers.\n",
    "3. Scatter plots to discover and describe bivariate relationships.\n",
    "4. Percentiles to identify the range for numeric data.\n",
    "5. Averages, medians, and standard deviations to describe central tendency.\n",
    "\n",
    "Techniques and other to help help determine which features are likely to benefit the model as well as futher understanding of which data transformations will be needed to prepare the data for modeling.\n",
    "\n",
    "Within the discovery stage, it can be helpful to do a few modeling experiments to see if there really is \"signal in the noise.\"\n",
    "- It could be beneficial to perform a machine learning feasibility study."
   ]
  },
  {
   "cell_type": "markdown",
   "metadata": {},
   "source": [
    "## Metadata"
   ]
  },
  {
   "cell_type": "markdown",
   "metadata": {},
   "source": [
    "**To Do:**\n",
    "\n",
    "*Pandas attempts to automatically infer the appropriate data types for columns. However its not uncommon to see it import a numerical column in as strings due to some quirk.*\n",
    "\n",
    "**1. Drop films that do not meet a 1 mil+ revenue**\n",
    "\n",
    "**2. Set up the right dtypes**\n",
    "> - `budget`\n",
    "> - `Id`\n",
    "> - `release_date`\n",
    "\n",
    "**3. Handle Missing Values and Duplicates**\n",
    "\n",
    "**4. Drop Features**\n",
    "> - `adult`\n",
    "> - `homepage`\n",
    "> - *`original_title`?* *(could be useful: i.e. anime title has huge following - but the studio changed the title for U.S.A market and lost big portion of original following)*\n",
    "> - `overview`\n",
    "> - `popularity`\n",
    "> - `status`\n",
    "> - `tagline`\n",
    "> - `video`\n",
    "> - `poster_path`\n",
    "\n",
    "**5. UpperCase text variables for inconsistencies, anomolies, and duplicates**\n",
    "\n",
    "**6. Dummifying the belongs_to_collection column.**\n",
    "\n"
   ]
  },
  {
   "cell_type": "markdown",
   "metadata": {},
   "source": [
    "### Drop Films < 1 Mil USD"
   ]
  },
  {
   "cell_type": "code",
   "execution_count": 16,
   "metadata": {},
   "outputs": [],
   "source": [
    "# First filter out those rows which\n",
    "# does not contain any data\n",
    "#imdb_metadata = imdb_metadata.dropna(how = 'all')\n",
    "  \n",
    "# Filter all rows for which the film\n",
    "# revenue is greater than or equal to 1 million USD\n",
    "#imdb_metadata.drop(imdb_metadata[imdb_metadata['revenue'] < 1000000].index, inplace = True)\n",
    "#imdb_metadata.head()"
   ]
  },
  {
   "cell_type": "code",
   "execution_count": 17,
   "metadata": {},
   "outputs": [
    {
     "data": {
      "text/plain": [
       "(45466, 11)"
      ]
     },
     "execution_count": 17,
     "metadata": {},
     "output_type": "execute_result"
    }
   ],
   "source": [
    "imdb_metadata.shape"
   ]
  },
  {
   "cell_type": "markdown",
   "metadata": {},
   "source": [
    "The dataset went from **45,466** rows to **6,069** rows. "
   ]
  },
  {
   "cell_type": "markdown",
   "metadata": {},
   "source": [
    "### Convert dtypes"
   ]
  },
  {
   "cell_type": "markdown",
   "metadata": {},
   "source": [
    "**Features to convert**\n",
    "- `budget` - Convert to a **numerical(int)** datatype\n",
    "- `revenue` - Convert to a **numerical(int)** datatype\n",
    "- `id` - Convert to a **numerical(int)** datatype\n",
    "- `runtime` - Convert to a **numerical(int)** datatype\n",
    "- `release_date` - Convert to a **Datetime** datatype"
   ]
  },
  {
   "cell_type": "markdown",
   "metadata": {},
   "source": [
    "**`budget`, `id`, `imdb_id` converted to float**"
   ]
  },
  {
   "cell_type": "markdown",
   "metadata": {},
   "source": [
    "`infer_objects` - Version 0.21.0 of pandas introduced the method infer_objects() for converting columns of a DataFrame that have an object datatype to a more specific type (soft conversions)."
   ]
  },
  {
   "cell_type": "code",
   "execution_count": 18,
   "metadata": {},
   "outputs": [],
   "source": [
    "# Convert objects to int, float, or datetime\n",
    "imdb_metadata = imdb_metadata.infer_objects()"
   ]
  },
  {
   "cell_type": "markdown",
   "metadata": {},
   "source": [
    "**`id` converted to int**"
   ]
  },
  {
   "cell_type": "code",
   "execution_count": 19,
   "metadata": {},
   "outputs": [
    {
     "name": "stdout",
     "output_type": "stream",
     "text": [
      "Empty DataFrame\n",
      "Columns: [id, imdb_id, title, budget, revenue, release_date, genres, belongs_to_collection, production_companies, production_countries, runtime]\n",
      "Index: []\n"
     ]
    }
   ],
   "source": [
    "print(imdb_metadata[imdb_metadata['id'].isnull()])"
   ]
  },
  {
   "cell_type": "code",
   "execution_count": 20,
   "metadata": {},
   "outputs": [],
   "source": [
    "imdb_metadata['id'] = pd.to_numeric(imdb_metadata['id'], errors='coerce')"
   ]
  },
  {
   "cell_type": "code",
   "execution_count": 21,
   "metadata": {},
   "outputs": [],
   "source": [
    "imdb_metadata = imdb_metadata.dropna(subset=['id'])"
   ]
  },
  {
   "cell_type": "code",
   "execution_count": 22,
   "metadata": {},
   "outputs": [],
   "source": [
    "imdb_metadata['id'] = imdb_metadata['id'].astype(int)"
   ]
  },
  {
   "cell_type": "markdown",
   "metadata": {},
   "source": [
    "**`budget` converted to int**"
   ]
  },
  {
   "cell_type": "code",
   "execution_count": 23,
   "metadata": {},
   "outputs": [
    {
     "name": "stdout",
     "output_type": "stream",
     "text": [
      "Empty DataFrame\n",
      "Columns: [id, imdb_id, title, budget, revenue, release_date, genres, belongs_to_collection, production_companies, production_countries, runtime]\n",
      "Index: []\n"
     ]
    }
   ],
   "source": [
    "print(imdb_metadata[imdb_metadata['budget'].isnull()])"
   ]
  },
  {
   "cell_type": "code",
   "execution_count": 24,
   "metadata": {},
   "outputs": [],
   "source": [
    "imdb_metadata['budget'] = pd.to_numeric(imdb_metadata['budget'], errors='coerce')"
   ]
  },
  {
   "cell_type": "code",
   "execution_count": 25,
   "metadata": {},
   "outputs": [],
   "source": [
    "imdb_metadata = imdb_metadata.dropna(subset=['budget'])"
   ]
  },
  {
   "cell_type": "code",
   "execution_count": 26,
   "metadata": {},
   "outputs": [],
   "source": [
    "imdb_metadata['budget'] = imdb_metadata['budget'].astype(int)"
   ]
  },
  {
   "cell_type": "markdown",
   "metadata": {},
   "source": [
    "**`revenue` converted to int**"
   ]
  },
  {
   "cell_type": "code",
   "execution_count": 27,
   "metadata": {},
   "outputs": [
    {
     "name": "stdout",
     "output_type": "stream",
     "text": [
      "           id    imdb_id title  budget  revenue release_date  \\\n",
      "19729   82663  tt0113002   NaN       0      NaN          NaN   \n",
      "29502  122662  tt2423504   NaN       0      NaN          NaN   \n",
      "35586  249260  tt2622826   NaN       0      NaN          NaN   \n",
      "\n",
      "                                                  genres  \\\n",
      "19729  [{'id': 28, 'name': 'Action'}, {'id': 53, 'nam...   \n",
      "29502  [{'id': 16, 'name': 'Animation'}, {'id': 878, ...   \n",
      "35586  [{'id': 10770, 'name': 'TV Movie'}, {'id': 28,...   \n",
      "\n",
      "                                   belongs_to_collection production_companies  \\\n",
      "19729                                                NaN                  NaN   \n",
      "29502  {'id': 122661, 'name': 'Mardock Scramble Colle...                  NaN   \n",
      "35586                                                NaN                  NaN   \n",
      "\n",
      "      production_countries  runtime  \n",
      "19729                  NaN      NaN  \n",
      "29502                  NaN      NaN  \n",
      "35586                  NaN      NaN  \n"
     ]
    }
   ],
   "source": [
    "print(imdb_metadata[imdb_metadata['revenue'].isnull()])"
   ]
  },
  {
   "cell_type": "code",
   "execution_count": 28,
   "metadata": {},
   "outputs": [],
   "source": [
    "imdb_metadata['revenue'] = pd.to_numeric(imdb_metadata['revenue'], errors='coerce')"
   ]
  },
  {
   "cell_type": "code",
   "execution_count": 29,
   "metadata": {},
   "outputs": [],
   "source": [
    "imdb_metadata = imdb_metadata.dropna(subset=['revenue'])"
   ]
  },
  {
   "cell_type": "code",
   "execution_count": 30,
   "metadata": {},
   "outputs": [],
   "source": [
    "imdb_metadata['revenue'] = imdb_metadata['revenue'].astype(int)"
   ]
  },
  {
   "cell_type": "markdown",
   "metadata": {},
   "source": [
    "**`release_date` converted to datetime**"
   ]
  },
  {
   "cell_type": "code",
   "execution_count": 31,
   "metadata": {},
   "outputs": [],
   "source": [
    "imdb_metadata['release_date'] = pd.to_datetime(imdb_metadata['release_date'],  errors='coerce')"
   ]
  },
  {
   "cell_type": "markdown",
   "metadata": {},
   "source": [
    "**SUMMARY**"
   ]
  },
  {
   "cell_type": "code",
   "execution_count": 32,
   "metadata": {},
   "outputs": [
    {
     "data": {
      "text/plain": [
       "id                                int64\n",
       "imdb_id                          object\n",
       "title                            object\n",
       "budget                            int64\n",
       "revenue                           int64\n",
       "release_date             datetime64[ns]\n",
       "genres                           object\n",
       "belongs_to_collection            object\n",
       "production_companies             object\n",
       "production_countries             object\n",
       "runtime                         float64\n",
       "dtype: object"
      ]
     },
     "execution_count": 32,
     "metadata": {},
     "output_type": "execute_result"
    }
   ],
   "source": [
    "imdb_metadata.dtypes"
   ]
  },
  {
   "cell_type": "markdown",
   "metadata": {},
   "source": [
    "### Missing Nan Values"
   ]
  },
  {
   "cell_type": "code",
   "execution_count": 33,
   "metadata": {},
   "outputs": [
    {
     "data": {
      "text/html": [
       "<div>\n",
       "<style scoped>\n",
       "    .dataframe tbody tr th:only-of-type {\n",
       "        vertical-align: middle;\n",
       "    }\n",
       "\n",
       "    .dataframe tbody tr th {\n",
       "        vertical-align: top;\n",
       "    }\n",
       "\n",
       "    .dataframe thead th {\n",
       "        text-align: right;\n",
       "    }\n",
       "</style>\n",
       "<table border=\"1\" class=\"dataframe\">\n",
       "  <thead>\n",
       "    <tr style=\"text-align: right;\">\n",
       "      <th></th>\n",
       "      <th>id</th>\n",
       "      <th>imdb_id</th>\n",
       "      <th>title</th>\n",
       "      <th>budget</th>\n",
       "      <th>revenue</th>\n",
       "      <th>release_date</th>\n",
       "      <th>genres</th>\n",
       "      <th>belongs_to_collection</th>\n",
       "      <th>production_companies</th>\n",
       "      <th>production_countries</th>\n",
       "      <th>runtime</th>\n",
       "    </tr>\n",
       "  </thead>\n",
       "  <tbody>\n",
       "    <tr>\n",
       "      <th>0</th>\n",
       "      <td>False</td>\n",
       "      <td>False</td>\n",
       "      <td>False</td>\n",
       "      <td>False</td>\n",
       "      <td>False</td>\n",
       "      <td>False</td>\n",
       "      <td>False</td>\n",
       "      <td>False</td>\n",
       "      <td>False</td>\n",
       "      <td>False</td>\n",
       "      <td>False</td>\n",
       "    </tr>\n",
       "    <tr>\n",
       "      <th>1</th>\n",
       "      <td>False</td>\n",
       "      <td>False</td>\n",
       "      <td>False</td>\n",
       "      <td>False</td>\n",
       "      <td>False</td>\n",
       "      <td>False</td>\n",
       "      <td>False</td>\n",
       "      <td>True</td>\n",
       "      <td>False</td>\n",
       "      <td>False</td>\n",
       "      <td>False</td>\n",
       "    </tr>\n",
       "    <tr>\n",
       "      <th>2</th>\n",
       "      <td>False</td>\n",
       "      <td>False</td>\n",
       "      <td>False</td>\n",
       "      <td>False</td>\n",
       "      <td>False</td>\n",
       "      <td>False</td>\n",
       "      <td>False</td>\n",
       "      <td>False</td>\n",
       "      <td>False</td>\n",
       "      <td>False</td>\n",
       "      <td>False</td>\n",
       "    </tr>\n",
       "    <tr>\n",
       "      <th>3</th>\n",
       "      <td>False</td>\n",
       "      <td>False</td>\n",
       "      <td>False</td>\n",
       "      <td>False</td>\n",
       "      <td>False</td>\n",
       "      <td>False</td>\n",
       "      <td>False</td>\n",
       "      <td>True</td>\n",
       "      <td>False</td>\n",
       "      <td>False</td>\n",
       "      <td>False</td>\n",
       "    </tr>\n",
       "    <tr>\n",
       "      <th>4</th>\n",
       "      <td>False</td>\n",
       "      <td>False</td>\n",
       "      <td>False</td>\n",
       "      <td>False</td>\n",
       "      <td>False</td>\n",
       "      <td>False</td>\n",
       "      <td>False</td>\n",
       "      <td>False</td>\n",
       "      <td>False</td>\n",
       "      <td>False</td>\n",
       "      <td>False</td>\n",
       "    </tr>\n",
       "  </tbody>\n",
       "</table>\n",
       "</div>"
      ],
      "text/plain": [
       "      id  imdb_id  title  budget  revenue  release_date  genres  \\\n",
       "0  False    False  False   False    False         False   False   \n",
       "1  False    False  False   False    False         False   False   \n",
       "2  False    False  False   False    False         False   False   \n",
       "3  False    False  False   False    False         False   False   \n",
       "4  False    False  False   False    False         False   False   \n",
       "\n",
       "   belongs_to_collection  production_companies  production_countries  runtime  \n",
       "0                  False                 False                 False    False  \n",
       "1                   True                 False                 False    False  \n",
       "2                  False                 False                 False    False  \n",
       "3                   True                 False                 False    False  \n",
       "4                  False                 False                 False    False  "
      ]
     },
     "execution_count": 33,
     "metadata": {},
     "output_type": "execute_result"
    }
   ],
   "source": [
    "imdb_missing = imdb_metadata.isna()\n",
    "imdb_missing.head()"
   ]
  },
  {
   "cell_type": "code",
   "execution_count": 34,
   "metadata": {},
   "outputs": [],
   "source": [
    "#  Calculate the missing fraction using basic arithmatic\n",
    "percent_missing = imdb_metadata.isnull().sum() * 100 / len(imdb_metadata)\n",
    "missing_value_df = pd.DataFrame({'column_name': imdb_metadata.columns,\n",
    "                                 'percent_missing': percent_missing})"
   ]
  },
  {
   "cell_type": "code",
   "execution_count": 35,
   "metadata": {},
   "outputs": [
    {
     "data": {
      "text/html": [
       "<div>\n",
       "<style scoped>\n",
       "    .dataframe tbody tr th:only-of-type {\n",
       "        vertical-align: middle;\n",
       "    }\n",
       "\n",
       "    .dataframe tbody tr th {\n",
       "        vertical-align: top;\n",
       "    }\n",
       "\n",
       "    .dataframe thead th {\n",
       "        text-align: right;\n",
       "    }\n",
       "</style>\n",
       "<table border=\"1\" class=\"dataframe\">\n",
       "  <thead>\n",
       "    <tr style=\"text-align: right;\">\n",
       "      <th></th>\n",
       "      <th>column_name</th>\n",
       "      <th>percent_missing</th>\n",
       "    </tr>\n",
       "  </thead>\n",
       "  <tbody>\n",
       "    <tr>\n",
       "      <th>id</th>\n",
       "      <td>id</td>\n",
       "      <td>0.000000</td>\n",
       "    </tr>\n",
       "    <tr>\n",
       "      <th>imdb_id</th>\n",
       "      <td>imdb_id</td>\n",
       "      <td>0.037396</td>\n",
       "    </tr>\n",
       "    <tr>\n",
       "      <th>title</th>\n",
       "      <td>title</td>\n",
       "      <td>0.000000</td>\n",
       "    </tr>\n",
       "    <tr>\n",
       "      <th>budget</th>\n",
       "      <td>budget</td>\n",
       "      <td>0.000000</td>\n",
       "    </tr>\n",
       "    <tr>\n",
       "      <th>revenue</th>\n",
       "      <td>revenue</td>\n",
       "      <td>0.000000</td>\n",
       "    </tr>\n",
       "    <tr>\n",
       "      <th>release_date</th>\n",
       "      <td>release_date</td>\n",
       "      <td>0.184778</td>\n",
       "    </tr>\n",
       "    <tr>\n",
       "      <th>genres</th>\n",
       "      <td>genres</td>\n",
       "      <td>0.000000</td>\n",
       "    </tr>\n",
       "    <tr>\n",
       "      <th>belongs_to_collection</th>\n",
       "      <td>belongs_to_collection</td>\n",
       "      <td>90.123185</td>\n",
       "    </tr>\n",
       "    <tr>\n",
       "      <th>production_companies</th>\n",
       "      <td>production_companies</td>\n",
       "      <td>0.000000</td>\n",
       "    </tr>\n",
       "    <tr>\n",
       "      <th>production_countries</th>\n",
       "      <td>production_countries</td>\n",
       "      <td>0.000000</td>\n",
       "    </tr>\n",
       "    <tr>\n",
       "      <th>runtime</th>\n",
       "      <td>runtime</td>\n",
       "      <td>0.565332</td>\n",
       "    </tr>\n",
       "  </tbody>\n",
       "</table>\n",
       "</div>"
      ],
      "text/plain": [
       "                                 column_name  percent_missing\n",
       "id                                        id         0.000000\n",
       "imdb_id                              imdb_id         0.037396\n",
       "title                                  title         0.000000\n",
       "budget                                budget         0.000000\n",
       "revenue                              revenue         0.000000\n",
       "release_date                    release_date         0.184778\n",
       "genres                                genres         0.000000\n",
       "belongs_to_collection  belongs_to_collection        90.123185\n",
       "production_companies    production_companies         0.000000\n",
       "production_countries    production_countries         0.000000\n",
       "runtime                              runtime         0.565332"
      ]
     },
     "execution_count": 35,
     "metadata": {},
     "output_type": "execute_result"
    }
   ],
   "source": [
    "missing_value_df"
   ]
  },
  {
   "cell_type": "markdown",
   "metadata": {},
   "source": [
    "Roughly **73%** of films belong to a collection. *(i.e. Marvel, Starwars, Indians Jones, James Bond 007, etc...)*. \n",
    "\n",
    "*It will be nice to see the gross revenue for films that belong to a collection vs. those that do not... Are viewers more prone to invest time and money into franchise films? And if so, Why? Do they enjoy having something to look forward to in the next film? Is it just a scaled up version of television series?* "
   ]
  },
  {
   "cell_type": "markdown",
   "metadata": {},
   "source": [
    "### Missing '0' Values"
   ]
  },
  {
   "cell_type": "code",
   "execution_count": 36,
   "metadata": {},
   "outputs": [],
   "source": [
    "def highlight(s):\n",
    "    if s.percent_missing > 25:\n",
    "        return ['background-color: yellow']*1\n",
    "    else:\n",
    "        \n",
    "        return ['background-color: white']*1"
   ]
  },
  {
   "cell_type": "code",
   "execution_count": 37,
   "metadata": {},
   "outputs": [],
   "source": [
    "percent_missing_values = imdb_metadata[imdb_metadata == '0'].count(axis=0) * 100 / len(imdb_metadata)\n",
    "missing_values = pd.DataFrame({'percent_missing': percent_missing_values})"
   ]
  },
  {
   "cell_type": "code",
   "execution_count": 38,
   "metadata": {},
   "outputs": [
    {
     "data": {
      "text/html": [
       "<style  type=\"text/css\" >\n",
       "#T_ebec736a_2978_11ec_8625_1e00f102c451row0_col0,#T_ebec736a_2978_11ec_8625_1e00f102c451row1_col0,#T_ebec736a_2978_11ec_8625_1e00f102c451row2_col0,#T_ebec736a_2978_11ec_8625_1e00f102c451row3_col0,#T_ebec736a_2978_11ec_8625_1e00f102c451row4_col0,#T_ebec736a_2978_11ec_8625_1e00f102c451row5_col0,#T_ebec736a_2978_11ec_8625_1e00f102c451row6_col0,#T_ebec736a_2978_11ec_8625_1e00f102c451row7_col0,#T_ebec736a_2978_11ec_8625_1e00f102c451row8_col0,#T_ebec736a_2978_11ec_8625_1e00f102c451row9_col0,#T_ebec736a_2978_11ec_8625_1e00f102c451row10_col0{\n",
       "            background-color:  white;\n",
       "        }</style><table id=\"T_ebec736a_2978_11ec_8625_1e00f102c451\" ><thead>    <tr>        <th class=\"blank level0\" ></th>        <th class=\"col_heading level0 col0\" >percent_missing</th>    </tr></thead><tbody>\n",
       "                <tr>\n",
       "                        <th id=\"T_ebec736a_2978_11ec_8625_1e00f102c451level0_row0\" class=\"row_heading level0 row0\" >id</th>\n",
       "                        <td id=\"T_ebec736a_2978_11ec_8625_1e00f102c451row0_col0\" class=\"data row0 col0\" >0.000000</td>\n",
       "            </tr>\n",
       "            <tr>\n",
       "                        <th id=\"T_ebec736a_2978_11ec_8625_1e00f102c451level0_row1\" class=\"row_heading level0 row1\" >imdb_id</th>\n",
       "                        <td id=\"T_ebec736a_2978_11ec_8625_1e00f102c451row1_col0\" class=\"data row1 col0\" >0.000000</td>\n",
       "            </tr>\n",
       "            <tr>\n",
       "                        <th id=\"T_ebec736a_2978_11ec_8625_1e00f102c451level0_row2\" class=\"row_heading level0 row2\" >title</th>\n",
       "                        <td id=\"T_ebec736a_2978_11ec_8625_1e00f102c451row2_col0\" class=\"data row2 col0\" >0.000000</td>\n",
       "            </tr>\n",
       "            <tr>\n",
       "                        <th id=\"T_ebec736a_2978_11ec_8625_1e00f102c451level0_row3\" class=\"row_heading level0 row3\" >budget</th>\n",
       "                        <td id=\"T_ebec736a_2978_11ec_8625_1e00f102c451row3_col0\" class=\"data row3 col0\" >0.000000</td>\n",
       "            </tr>\n",
       "            <tr>\n",
       "                        <th id=\"T_ebec736a_2978_11ec_8625_1e00f102c451level0_row4\" class=\"row_heading level0 row4\" >revenue</th>\n",
       "                        <td id=\"T_ebec736a_2978_11ec_8625_1e00f102c451row4_col0\" class=\"data row4 col0\" >0.000000</td>\n",
       "            </tr>\n",
       "            <tr>\n",
       "                        <th id=\"T_ebec736a_2978_11ec_8625_1e00f102c451level0_row5\" class=\"row_heading level0 row5\" >release_date</th>\n",
       "                        <td id=\"T_ebec736a_2978_11ec_8625_1e00f102c451row5_col0\" class=\"data row5 col0\" >0.000000</td>\n",
       "            </tr>\n",
       "            <tr>\n",
       "                        <th id=\"T_ebec736a_2978_11ec_8625_1e00f102c451level0_row6\" class=\"row_heading level0 row6\" >genres</th>\n",
       "                        <td id=\"T_ebec736a_2978_11ec_8625_1e00f102c451row6_col0\" class=\"data row6 col0\" >0.000000</td>\n",
       "            </tr>\n",
       "            <tr>\n",
       "                        <th id=\"T_ebec736a_2978_11ec_8625_1e00f102c451level0_row7\" class=\"row_heading level0 row7\" >belongs_to_collection</th>\n",
       "                        <td id=\"T_ebec736a_2978_11ec_8625_1e00f102c451row7_col0\" class=\"data row7 col0\" >0.000000</td>\n",
       "            </tr>\n",
       "            <tr>\n",
       "                        <th id=\"T_ebec736a_2978_11ec_8625_1e00f102c451level0_row8\" class=\"row_heading level0 row8\" >production_companies</th>\n",
       "                        <td id=\"T_ebec736a_2978_11ec_8625_1e00f102c451row8_col0\" class=\"data row8 col0\" >0.000000</td>\n",
       "            </tr>\n",
       "            <tr>\n",
       "                        <th id=\"T_ebec736a_2978_11ec_8625_1e00f102c451level0_row9\" class=\"row_heading level0 row9\" >production_countries</th>\n",
       "                        <td id=\"T_ebec736a_2978_11ec_8625_1e00f102c451row9_col0\" class=\"data row9 col0\" >0.000000</td>\n",
       "            </tr>\n",
       "            <tr>\n",
       "                        <th id=\"T_ebec736a_2978_11ec_8625_1e00f102c451level0_row10\" class=\"row_heading level0 row10\" >runtime</th>\n",
       "                        <td id=\"T_ebec736a_2978_11ec_8625_1e00f102c451row10_col0\" class=\"data row10 col0\" >0.000000</td>\n",
       "            </tr>\n",
       "    </tbody></table>"
      ],
      "text/plain": [
       "<pandas.io.formats.style.Styler at 0x7fe7913e2c10>"
      ]
     },
     "execution_count": 38,
     "metadata": {},
     "output_type": "execute_result"
    }
   ],
   "source": [
    "missing_values.style.apply(highlight, axis=1)"
   ]
  },
  {
   "cell_type": "code",
   "execution_count": 39,
   "metadata": {},
   "outputs": [
    {
     "data": {
      "image/png": "[encoded data removed]",
      "text/plain": [
       "<Figure size 432x288 with 1 Axes>"
      ]
     },
     "metadata": {
      "needs_background": "light"
     },
     "output_type": "display_data"
    }
   ],
   "source": [
    "# plot the misssing values\n",
    "missing_values.plot(kind=\"barh\")# histogram\n",
    "plt.xlabel(\"pct missing\");# label missing categories"
   ]
  },
  {
   "cell_type": "markdown",
   "metadata": {},
   "source": [
    "### **Genre(s)**"
   ]
  },
  {
   "cell_type": "markdown",
   "metadata": {},
   "source": [
    "1. Extract genre names\n",
    "2. Merge with `imdb_metadata`\n",
    "\n",
    "I want to also include the movie genre as a feature, but this is nested. I will extract the relevant column and transform it into a workable format. Since movies can belong to one genre, I will have to take this into account by creating a `tmp` column which will as an indicator as to whether that movie belongs to that genre - this will come in handy later."
   ]
  },
  {
   "cell_type": "code",
   "execution_count": 40,
   "metadata": {},
   "outputs": [],
   "source": [
    "genres_df = imdb_metadata[['id', 'genres']]"
   ]
  },
  {
   "cell_type": "code",
   "execution_count": 41,
   "metadata": {},
   "outputs": [
    {
     "data": {
      "text/plain": [
       "(45460, 2)"
      ]
     },
     "execution_count": 41,
     "metadata": {},
     "output_type": "execute_result"
    }
   ],
   "source": [
    "genres_df.shape"
   ]
  },
  {
   "cell_type": "code",
   "execution_count": 42,
   "metadata": {},
   "outputs": [],
   "source": [
    "dict_columns = ['genres']\n",
    "\n",
    "def text_to_dict(df):\n",
    "    for column in dict_columns:\n",
    "        df[column] = df[column].apply(lambda x: {} if pd.isna(x) else ast.literal_eval(x) )\n",
    "    return df\n",
    "\n",
    "genres_df = text_to_dict(genres_df)"
   ]
  },
  {
   "cell_type": "code",
   "execution_count": 44,
   "metadata": {},
   "outputs": [
    {
     "data": {
      "text/plain": [
       "(45460, 2)"
      ]
     },
     "execution_count": 44,
     "metadata": {},
     "output_type": "execute_result"
    }
   ],
   "source": [
    "genres_df.shape"
   ]
  },
  {
   "cell_type": "code",
   "execution_count": 45,
   "metadata": {},
   "outputs": [
    {
     "name": "stdout",
     "output_type": "stream",
     "text": [
      "Number of genres in films\n"
     ]
    },
    {
     "data": {
      "text/plain": [
       "1    14559\n",
       "2    14479\n",
       "3     9584\n",
       "4     3378\n",
       "0     2442\n",
       "5      834\n",
       "6      157\n",
       "7       24\n",
       "8        3\n",
       "Name: genres, dtype: int64"
      ]
     },
     "execution_count": 45,
     "metadata": {},
     "output_type": "execute_result"
    }
   ],
   "source": [
    "print('Number of genres in films')\n",
    "genres_df['genres'].apply(lambda x: len(x) if x != {} else 0).value_counts()"
   ]
  },
  {
   "cell_type": "markdown",
   "metadata": {},
   "source": [
    "**Most Common Genres** "
   ]
  },
  {
   "cell_type": "code",
   "execution_count": 46,
   "metadata": {},
   "outputs": [
    {
     "data": {
      "text/html": [
       "<div>\n",
       "<style scoped>\n",
       "    .dataframe tbody tr th:only-of-type {\n",
       "        vertical-align: middle;\n",
       "    }\n",
       "\n",
       "    .dataframe tbody tr th {\n",
       "        vertical-align: top;\n",
       "    }\n",
       "\n",
       "    .dataframe thead th {\n",
       "        text-align: right;\n",
       "    }\n",
       "</style>\n",
       "<table border=\"1\" class=\"dataframe\">\n",
       "  <thead>\n",
       "    <tr style=\"text-align: right;\">\n",
       "      <th></th>\n",
       "      <th>id</th>\n",
       "      <th>genres</th>\n",
       "    </tr>\n",
       "  </thead>\n",
       "  <tbody>\n",
       "    <tr>\n",
       "      <th>0</th>\n",
       "      <td>862</td>\n",
       "      <td>[{'id': 16, 'name': 'Animation'}, {'id': 35, '...</td>\n",
       "    </tr>\n",
       "    <tr>\n",
       "      <th>1</th>\n",
       "      <td>8844</td>\n",
       "      <td>[{'id': 12, 'name': 'Adventure'}, {'id': 14, '...</td>\n",
       "    </tr>\n",
       "    <tr>\n",
       "      <th>2</th>\n",
       "      <td>15602</td>\n",
       "      <td>[{'id': 10749, 'name': 'Romance'}, {'id': 35, ...</td>\n",
       "    </tr>\n",
       "    <tr>\n",
       "      <th>3</th>\n",
       "      <td>31357</td>\n",
       "      <td>[{'id': 35, 'name': 'Comedy'}, {'id': 18, 'nam...</td>\n",
       "    </tr>\n",
       "    <tr>\n",
       "      <th>4</th>\n",
       "      <td>11862</td>\n",
       "      <td>[{'id': 35, 'name': 'Comedy'}]</td>\n",
       "    </tr>\n",
       "  </tbody>\n",
       "</table>\n",
       "</div>"
      ],
      "text/plain": [
       "      id                                             genres\n",
       "0    862  [{'id': 16, 'name': 'Animation'}, {'id': 35, '...\n",
       "1   8844  [{'id': 12, 'name': 'Adventure'}, {'id': 14, '...\n",
       "2  15602  [{'id': 10749, 'name': 'Romance'}, {'id': 35, ...\n",
       "3  31357  [{'id': 35, 'name': 'Comedy'}, {'id': 18, 'nam...\n",
       "4  11862                     [{'id': 35, 'name': 'Comedy'}]"
      ]
     },
     "execution_count": 46,
     "metadata": {},
     "output_type": "execute_result"
    }
   ],
   "source": [
    "genres_df.head()"
   ]
  },
  {
   "cell_type": "code",
   "execution_count": 47,
   "metadata": {},
   "outputs": [],
   "source": [
    "list_of_genres = list(genres_df['genres'].apply(lambda x: [i['name'] for i in x] if x != {} else []).values)"
   ]
  },
  {
   "cell_type": "code",
   "execution_count": 48,
   "metadata": {},
   "outputs": [
    {
     "data": {
      "text/plain": [
       "[('Drama', 20264),\n",
       " ('Comedy', 13182),\n",
       " ('Thriller', 7623),\n",
       " ('Romance', 6735),\n",
       " ('Action', 6594),\n",
       " ('Horror', 4672),\n",
       " ('Crime', 4307),\n",
       " ('Documentary', 3932),\n",
       " ('Adventure', 3496),\n",
       " ('Science Fiction', 3047),\n",
       " ('Family', 2770),\n",
       " ('Mystery', 2467),\n",
       " ('Fantasy', 2313),\n",
       " ('Animation', 1934),\n",
       " ('Foreign', 1622),\n",
       " ('Music', 1598),\n",
       " ('History', 1398),\n",
       " ('War', 1323),\n",
       " ('Western', 1042),\n",
       " ('TV Movie', 766)]"
      ]
     },
     "execution_count": 48,
     "metadata": {},
     "output_type": "execute_result"
    }
   ],
   "source": [
    "Counter([i for j in list_of_genres for i in j]).most_common()"
   ]
  },
  {
   "cell_type": "markdown",
   "metadata": {},
   "source": [
    "The cutoff for `genres` is going to be `foreign` anything after that looks to be a non-genre. The top genre limit will be **20** which stops at 'TV Movie'."
   ]
  },
  {
   "cell_type": "markdown",
   "metadata": {},
   "source": [
    "Assign 1 or 0 to a genre"
   ]
  },
  {
   "cell_type": "code",
   "execution_count": 49,
   "metadata": {},
   "outputs": [],
   "source": [
    "genres_df['num_genres'] = genres_df['genres'].apply(lambda x: len(x) if x != {} else 0)\n",
    "genres_df['all_genres'] = genres_df['genres'].apply(lambda x: ' '.join(sorted([i['name'] for i in x])) if x != {} else '')\n",
    "top_genres = [m[0] for m in Counter([i for j in list_of_genres for i in j]).most_common(20)]\n",
    "for g in top_genres:\n",
    "    genres_df['genre_' + g] = genres_df['all_genres'].apply(lambda x: 1 if g in x else 0)\n",
    "    \n",
    "genres_df = genres_df.drop(['genres'], axis=1)"
   ]
  },
  {
   "cell_type": "code",
   "execution_count": 50,
   "metadata": {},
   "outputs": [
    {
     "data": {
      "text/html": [
       "<div>\n",
       "<style scoped>\n",
       "    .dataframe tbody tr th:only-of-type {\n",
       "        vertical-align: middle;\n",
       "    }\n",
       "\n",
       "    .dataframe tbody tr th {\n",
       "        vertical-align: top;\n",
       "    }\n",
       "\n",
       "    .dataframe thead th {\n",
       "        text-align: right;\n",
       "    }\n",
       "</style>\n",
       "<table border=\"1\" class=\"dataframe\">\n",
       "  <thead>\n",
       "    <tr style=\"text-align: right;\">\n",
       "      <th></th>\n",
       "      <th>id</th>\n",
       "      <th>num_genres</th>\n",
       "      <th>all_genres</th>\n",
       "      <th>genre_Drama</th>\n",
       "      <th>genre_Comedy</th>\n",
       "      <th>genre_Thriller</th>\n",
       "      <th>genre_Romance</th>\n",
       "      <th>genre_Action</th>\n",
       "      <th>genre_Horror</th>\n",
       "      <th>genre_Crime</th>\n",
       "      <th>...</th>\n",
       "      <th>genre_Family</th>\n",
       "      <th>genre_Mystery</th>\n",
       "      <th>genre_Fantasy</th>\n",
       "      <th>genre_Animation</th>\n",
       "      <th>genre_Foreign</th>\n",
       "      <th>genre_Music</th>\n",
       "      <th>genre_History</th>\n",
       "      <th>genre_War</th>\n",
       "      <th>genre_Western</th>\n",
       "      <th>genre_TV Movie</th>\n",
       "    </tr>\n",
       "  </thead>\n",
       "  <tbody>\n",
       "    <tr>\n",
       "      <th>0</th>\n",
       "      <td>862</td>\n",
       "      <td>3</td>\n",
       "      <td>Animation Comedy Family</td>\n",
       "      <td>0</td>\n",
       "      <td>1</td>\n",
       "      <td>0</td>\n",
       "      <td>0</td>\n",
       "      <td>0</td>\n",
       "      <td>0</td>\n",
       "      <td>0</td>\n",
       "      <td>...</td>\n",
       "      <td>1</td>\n",
       "      <td>0</td>\n",
       "      <td>0</td>\n",
       "      <td>1</td>\n",
       "      <td>0</td>\n",
       "      <td>0</td>\n",
       "      <td>0</td>\n",
       "      <td>0</td>\n",
       "      <td>0</td>\n",
       "      <td>0</td>\n",
       "    </tr>\n",
       "    <tr>\n",
       "      <th>1</th>\n",
       "      <td>8844</td>\n",
       "      <td>3</td>\n",
       "      <td>Adventure Family Fantasy</td>\n",
       "      <td>0</td>\n",
       "      <td>0</td>\n",
       "      <td>0</td>\n",
       "      <td>0</td>\n",
       "      <td>0</td>\n",
       "      <td>0</td>\n",
       "      <td>0</td>\n",
       "      <td>...</td>\n",
       "      <td>1</td>\n",
       "      <td>0</td>\n",
       "      <td>1</td>\n",
       "      <td>0</td>\n",
       "      <td>0</td>\n",
       "      <td>0</td>\n",
       "      <td>0</td>\n",
       "      <td>0</td>\n",
       "      <td>0</td>\n",
       "      <td>0</td>\n",
       "    </tr>\n",
       "    <tr>\n",
       "      <th>2</th>\n",
       "      <td>15602</td>\n",
       "      <td>2</td>\n",
       "      <td>Comedy Romance</td>\n",
       "      <td>0</td>\n",
       "      <td>1</td>\n",
       "      <td>0</td>\n",
       "      <td>1</td>\n",
       "      <td>0</td>\n",
       "      <td>0</td>\n",
       "      <td>0</td>\n",
       "      <td>...</td>\n",
       "      <td>0</td>\n",
       "      <td>0</td>\n",
       "      <td>0</td>\n",
       "      <td>0</td>\n",
       "      <td>0</td>\n",
       "      <td>0</td>\n",
       "      <td>0</td>\n",
       "      <td>0</td>\n",
       "      <td>0</td>\n",
       "      <td>0</td>\n",
       "    </tr>\n",
       "    <tr>\n",
       "      <th>3</th>\n",
       "      <td>31357</td>\n",
       "      <td>3</td>\n",
       "      <td>Comedy Drama Romance</td>\n",
       "      <td>1</td>\n",
       "      <td>1</td>\n",
       "      <td>0</td>\n",
       "      <td>1</td>\n",
       "      <td>0</td>\n",
       "      <td>0</td>\n",
       "      <td>0</td>\n",
       "      <td>...</td>\n",
       "      <td>0</td>\n",
       "      <td>0</td>\n",
       "      <td>0</td>\n",
       "      <td>0</td>\n",
       "      <td>0</td>\n",
       "      <td>0</td>\n",
       "      <td>0</td>\n",
       "      <td>0</td>\n",
       "      <td>0</td>\n",
       "      <td>0</td>\n",
       "    </tr>\n",
       "    <tr>\n",
       "      <th>4</th>\n",
       "      <td>11862</td>\n",
       "      <td>1</td>\n",
       "      <td>Comedy</td>\n",
       "      <td>0</td>\n",
       "      <td>1</td>\n",
       "      <td>0</td>\n",
       "      <td>0</td>\n",
       "      <td>0</td>\n",
       "      <td>0</td>\n",
       "      <td>0</td>\n",
       "      <td>...</td>\n",
       "      <td>0</td>\n",
       "      <td>0</td>\n",
       "      <td>0</td>\n",
       "      <td>0</td>\n",
       "      <td>0</td>\n",
       "      <td>0</td>\n",
       "      <td>0</td>\n",
       "      <td>0</td>\n",
       "      <td>0</td>\n",
       "      <td>0</td>\n",
       "    </tr>\n",
       "  </tbody>\n",
       "</table>\n",
       "<p>5 rows × 23 columns</p>\n",
       "</div>"
      ],
      "text/plain": [
       "      id  num_genres                all_genres  genre_Drama  genre_Comedy  \\\n",
       "0    862           3   Animation Comedy Family            0             1   \n",
       "1   8844           3  Adventure Family Fantasy            0             0   \n",
       "2  15602           2            Comedy Romance            0             1   \n",
       "3  31357           3      Comedy Drama Romance            1             1   \n",
       "4  11862           1                    Comedy            0             1   \n",
       "\n",
       "   genre_Thriller  genre_Romance  genre_Action  genre_Horror  genre_Crime  \\\n",
       "0               0              0             0             0            0   \n",
       "1               0              0             0             0            0   \n",
       "2               0              1             0             0            0   \n",
       "3               0              1             0             0            0   \n",
       "4               0              0             0             0            0   \n",
       "\n",
       "   ...  genre_Family  genre_Mystery  genre_Fantasy  genre_Animation  \\\n",
       "0  ...             1              0              0                1   \n",
       "1  ...             1              0              1                0   \n",
       "2  ...             0              0              0                0   \n",
       "3  ...             0              0              0                0   \n",
       "4  ...             0              0              0                0   \n",
       "\n",
       "   genre_Foreign  genre_Music  genre_History  genre_War  genre_Western  \\\n",
       "0              0            0              0          0              0   \n",
       "1              0            0              0          0              0   \n",
       "2              0            0              0          0              0   \n",
       "3              0            0              0          0              0   \n",
       "4              0            0              0          0              0   \n",
       "\n",
       "   genre_TV Movie  \n",
       "0               0  \n",
       "1               0  \n",
       "2               0  \n",
       "3               0  \n",
       "4               0  \n",
       "\n",
       "[5 rows x 23 columns]"
      ]
     },
     "execution_count": 50,
     "metadata": {},
     "output_type": "execute_result"
    }
   ],
   "source": [
    "genres_df.head()"
   ]
  },
  {
   "cell_type": "code",
   "execution_count": 51,
   "metadata": {},
   "outputs": [
    {
     "data": {
      "text/plain": [
       "(45460, 23)"
      ]
     },
     "execution_count": 51,
     "metadata": {},
     "output_type": "execute_result"
    }
   ],
   "source": [
    "genres_df.shape"
   ]
  },
  {
   "cell_type": "code",
   "execution_count": 52,
   "metadata": {},
   "outputs": [],
   "source": [
    "# Save new dataframe as csv file to processed\n",
    "#genres_df.to_csv (('../data/processed/genres_clean.csv'), index = False, header=True)"
   ]
  },
  {
   "cell_type": "code",
   "execution_count": null,
   "metadata": {},
   "outputs": [],
   "source": [
    "imdb_metadata.shape"
   ]
  },
  {
   "cell_type": "code",
   "execution_count": null,
   "metadata": {},
   "outputs": [],
   "source": [
    "# Merge dataframes\n",
    "imdb_metadata = pd.merge(imdb_metadata, genres_df, on = 'id', how = 'left')\n",
    "imdb_metadata.head()"
   ]
  },
  {
   "cell_type": "markdown",
   "metadata": {},
   "source": [
    "Drop the 'genres' column from the dataframe"
   ]
  },
  {
   "cell_type": "code",
   "execution_count": null,
   "metadata": {},
   "outputs": [],
   "source": [
    "imdb_metadata = imdb_metadata.drop(['genres'], axis = 1)"
   ]
  },
  {
   "cell_type": "markdown",
   "metadata": {},
   "source": [
    "A look at `imdb_metadata`'s new columns"
   ]
  },
  {
   "cell_type": "code",
   "execution_count": null,
   "metadata": {},
   "outputs": [],
   "source": [
    "imdb_metadata.columns"
   ]
  },
  {
   "cell_type": "code",
   "execution_count": null,
   "metadata": {},
   "outputs": [],
   "source": [
    "imdb_metadata.shape"
   ]
  },
  {
   "cell_type": "markdown",
   "metadata": {},
   "source": [
    "## Credits & Additional Metadata"
   ]
  },
  {
   "cell_type": "markdown",
   "metadata": {},
   "source": [
    "**TO DO:**\n",
    "\n",
    "**1. Extract Key Below The Line People (BTL)**\n",
    "**Principle Photography (Production):**\n",
    "> - Line Producer(s)\n",
    "> - Production Manager(s) (PM)\n",
    "> - Production Coordinator(s)\n",
    "> - 1st Assist Director (AD)\n",
    "> - Director of Photography (DP)\n",
    "> - Gaffer (Lighting Director)\n",
    "> - Key Grip\n",
    "> - Production Designer(s)\n",
    "> - Art Director(s)\n",
    "> - Prop Master\n",
    "> - Costume Designer\n",
    "> - Wardrobe Stylist\n",
    "> - MakeUp Artist\n",
    "> - Hair Stylist\n",
    "> - Script Supervisor (Scripty)\n",
    "> - Sound Mixer\n",
    "> - Choreographer\n",
    "> - Craft Services (Crafty)\n",
    "\n",
    "**Post Production:**\n",
    "> - Post Production Supervisor\n",
    "> - Film Editor\n",
    "> - Colorist\n",
    "> - Telecine (Colorist)?\n",
    "> - Visual Effects (VFX)(Producer, Creative Director, Supervisor)\n",
    "> - Sound Designer\n",
    "> - Composer\n",
    "> - Foley Artist\n",
    "> - Music Editor\n",
    "\n",
    "**2. Extract Above the Line Talent (ATL)**\n",
    "> - Director\n",
    "> - Producer(s)\n",
    "> - Executive Producer(s)\n",
    "> - Screenwriter(s) (Story By, Written By, etc.)\n",
    "> - Casting Director(s)\n",
    "> - Principle Cast (Actors)\n",
    "\n",
    "**3. UpperCase Cast & Crew: Names, Roles, Characters, Positions, etc.**\n",
    "\n",
    "**4. Extract Lead and Supporting rolesfrom Cast**\n",
    "\n",
    "**5. Repeat step 3 for Cast**\n"
   ]
  },
  {
   "cell_type": "markdown",
   "metadata": {},
   "source": [
    "### **Lead Actor(s)**\n"
   ]
  },
  {
   "cell_type": "code",
   "execution_count": null,
   "metadata": {},
   "outputs": [],
   "source": [
    "cast_df.head()"
   ]
  },
  {
   "cell_type": "markdown",
   "metadata": {},
   "source": [
    "**Create new dataframe**"
   ]
  },
  {
   "cell_type": "code",
   "execution_count": null,
   "metadata": {},
   "outputs": [],
   "source": [
    "cast_df = cast_df[['name', 'order', 'gender', 'movie_id']]\n",
    "cast_df.head()"
   ]
  },
  {
   "cell_type": "markdown",
   "metadata": {},
   "source": [
    "Extract `lead` role and merge to `imdb_metadata` dataframe."
   ]
  },
  {
   "cell_type": "markdown",
   "metadata": {},
   "source": [
    "**LEAD**"
   ]
  },
  {
   "cell_type": "code",
   "execution_count": null,
   "metadata": {},
   "outputs": [],
   "source": [
    "lead = cast_df[cast_df['order'] == 0]\n",
    "lead = lead[['movie_id', 'name']]\n",
    "lead = lead.rename(columns={'movie_id':'id'})\n",
    "lead = lead.rename(columns={'name':'lead'})\n",
    "lead.head(5)"
   ]
  },
  {
   "cell_type": "code",
   "execution_count": null,
   "metadata": {},
   "outputs": [],
   "source": [
    "print(\"Number of rows before dropping those with null values:\",len(imdb_metadata))\n",
    "#imdb_metadata.dropna(inplace = True)\n",
    "print(\"Number of rows after dropping those with null values:\",len(imdb_metadata))"
   ]
  },
  {
   "cell_type": "markdown",
   "metadata": {},
   "source": [
    "**Merge to `imdb_metadata`**"
   ]
  },
  {
   "cell_type": "code",
   "execution_count": null,
   "metadata": {},
   "outputs": [],
   "source": [
    "# Merges data to main\n",
    "# Change dtype for `id`\n",
    "imdb_metadata['id'] = pd.to_numeric(imdb_metadata['id'], errors='coerce')\n",
    "imdb_metadata = pd.merge(imdb_metadata, lead, on = 'id', how = 'left')"
   ]
  },
  {
   "cell_type": "code",
   "execution_count": null,
   "metadata": {},
   "outputs": [],
   "source": [
    "imdb_metadata.shape"
   ]
  },
  {
   "cell_type": "markdown",
   "metadata": {},
   "source": [
    "### **Production Countries**"
   ]
  },
  {
   "cell_type": "code",
   "execution_count": null,
   "metadata": {},
   "outputs": [],
   "source": [
    "production_countries_df = imdb_metadata[['id', 'production_countries']]"
   ]
  },
  {
   "cell_type": "code",
   "execution_count": null,
   "metadata": {},
   "outputs": [],
   "source": [
    "production_countries_df.dtypes"
   ]
  },
  {
   "cell_type": "code",
   "execution_count": null,
   "metadata": {},
   "outputs": [],
   "source": [
    "countries_df = []\n",
    "\n",
    "for i in range(production_countries_df.shape[0]):\n",
    "    country = eval(production_countries_df['production_countries'][i])\n",
    "    for each in country:\n",
    "        each['id'] = production_countries_df['id'][i]\n",
    "    countries_df.extend(country)\n",
    "    \n",
    "countries_df = pd.DataFrame(countries_df)"
   ]
  },
  {
   "cell_type": "code",
   "execution_count": null,
   "metadata": {},
   "outputs": [],
   "source": [
    "# Save new dataframe as csv file to processed\n",
    "#countries_df.to_csv (('../data/processed/countries_df.csv'), index = False, header=True)"
   ]
  },
  {
   "cell_type": "code",
   "execution_count": null,
   "metadata": {},
   "outputs": [],
   "source": [
    "country = countries_df\n",
    "country = country.rename(columns={'name':'production_countries'})\n",
    "country = country[['id', 'production_countries']]\n",
    "country['tmp'] = 1\n",
    "country.head()"
   ]
  },
  {
   "cell_type": "markdown",
   "metadata": {},
   "source": [
    "**Top `production_countries`**"
   ]
  },
  {
   "cell_type": "code",
   "execution_count": null,
   "metadata": {},
   "outputs": [],
   "source": [
    "country.nunique()"
   ]
  },
  {
   "cell_type": "code",
   "execution_count": null,
   "metadata": {},
   "outputs": [],
   "source": [
    "print(country['production_countries'].value_counts())"
   ]
  },
  {
   "cell_type": "code",
   "execution_count": null,
   "metadata": {},
   "outputs": [],
   "source": [
    "# Create new df with countries that have more than ___ films\n",
    "top_countries = country.groupby('production_countries').filter(lambda x : len(x)>2)"
   ]
  },
  {
   "cell_type": "code",
   "execution_count": null,
   "metadata": {},
   "outputs": [],
   "source": [
    "print(top_countries['production_countries'].value_counts())"
   ]
  },
  {
   "cell_type": "markdown",
   "metadata": {},
   "source": [
    "**Merge `production_countries` with `imdb_metadata`**"
   ]
  },
  {
   "cell_type": "code",
   "execution_count": null,
   "metadata": {},
   "outputs": [],
   "source": [
    "pivot = country.pivot_table('tmp', 'id', 'production_countries', fill_value=0)\n",
    "flattened = pd.DataFrame(pivot.to_records())\n",
    "imdb_metadata = pd.merge(imdb_metadata, flattened, on = 'id', how = 'left')\n",
    "imdb_metadata.head()"
   ]
  },
  {
   "cell_type": "markdown",
   "metadata": {},
   "source": [
    "**Drop `production_countries` from `imdb_metadata`**"
   ]
  },
  {
   "cell_type": "code",
   "execution_count": null,
   "metadata": {},
   "outputs": [],
   "source": [
    "imdb_metadata = imdb_metadata.drop(['production_countries'], axis = 1)"
   ]
  },
  {
   "cell_type": "code",
   "execution_count": null,
   "metadata": {},
   "outputs": [],
   "source": [
    "imdb_metadata.shape"
   ]
  },
  {
   "cell_type": "markdown",
   "metadata": {},
   "source": [
    "### **Production Companies**\n",
    "\n",
    "Repeat process from `production_countries`"
   ]
  },
  {
   "cell_type": "code",
   "execution_count": null,
   "metadata": {},
   "outputs": [],
   "source": [
    "production_companies_df = imdb_metadata[['id', 'production_companies']]"
   ]
  },
  {
   "cell_type": "code",
   "execution_count": null,
   "metadata": {},
   "outputs": [],
   "source": [
    "companies_df = []\n",
    "\n",
    "for i in range(production_companies_df.shape[0]):\n",
    "    company = eval(production_companies_df['production_companies'][i])\n",
    "    for each in company:\n",
    "        each['id'] = production_companies_df['id'][i]\n",
    "    companies_df.extend(company)\n",
    "    \n",
    "companies_df = pd.DataFrame(companies_df)"
   ]
  },
  {
   "cell_type": "code",
   "execution_count": null,
   "metadata": {},
   "outputs": [],
   "source": [
    "company = companies_df\n",
    "company = company.rename(columns={'name':'production_companies'})\n",
    "company = company[['id', 'production_companies']]\n",
    "company.head()"
   ]
  },
  {
   "cell_type": "code",
   "execution_count": null,
   "metadata": {},
   "outputs": [],
   "source": [
    "# Save new dataframe as csv file to processed\n",
    "company.to_csv (('../data/processed/companies_df.csv'), index = False, header=True)"
   ]
  },
  {
   "cell_type": "code",
   "execution_count": null,
   "metadata": {},
   "outputs": [],
   "source": [
    "company = companies_df\n",
    "company = company.rename(columns={'name':'production_companies'})\n",
    "company = company[['id', 'production_companies']]\n",
    "company['tmp'] = 1\n",
    "company.head()"
   ]
  },
  {
   "cell_type": "code",
   "execution_count": null,
   "metadata": {},
   "outputs": [],
   "source": [
    "company.nunique()"
   ]
  },
  {
   "cell_type": "markdown",
   "metadata": {},
   "source": [
    "**Top `production_companies`**"
   ]
  },
  {
   "cell_type": "code",
   "execution_count": null,
   "metadata": {},
   "outputs": [],
   "source": [
    "print(company['production_companies'].value_counts())"
   ]
  },
  {
   "cell_type": "code",
   "execution_count": null,
   "metadata": {},
   "outputs": [],
   "source": [
    "# Create new df with companies that have more than 5 films\n",
    "top_studios = company.groupby('production_companies').filter(lambda x : len(x)>25)"
   ]
  },
  {
   "cell_type": "code",
   "execution_count": null,
   "metadata": {},
   "outputs": [],
   "source": [
    "print(top_studios['production_companies'].value_counts())"
   ]
  },
  {
   "cell_type": "markdown",
   "metadata": {},
   "source": [
    "**Merge `production_countries` with `imdb_metadata`**"
   ]
  },
  {
   "cell_type": "code",
   "execution_count": null,
   "metadata": {},
   "outputs": [],
   "source": [
    "pivot = top_studios.pivot_table('tmp', 'id', 'production_companies', fill_value=0)\n",
    "flattened = pd.DataFrame(pivot.to_records())\n",
    "imdb_metadata = pd.merge(imdb_metadata, flattened, on = 'id', how = 'left')\n",
    "imdb_metadata.head()"
   ]
  },
  {
   "cell_type": "markdown",
   "metadata": {},
   "source": [
    "Drop `production_companies` from `imdb_metadata`"
   ]
  },
  {
   "cell_type": "code",
   "execution_count": null,
   "metadata": {},
   "outputs": [],
   "source": [
    "imdb_metadata = imdb_metadata.drop(['production_companies'], axis = 1)"
   ]
  },
  {
   "cell_type": "code",
   "execution_count": null,
   "metadata": {},
   "outputs": [],
   "source": [
    "imdb_metadata.shape"
   ]
  },
  {
   "cell_type": "markdown",
   "metadata": {},
   "source": [
    "### **Belongs to Collection**"
   ]
  },
  {
   "cell_type": "markdown",
   "metadata": {},
   "source": [
    "Dummifying the belongs_to_collection column."
   ]
  },
  {
   "cell_type": "code",
   "execution_count": null,
   "metadata": {},
   "outputs": [],
   "source": [
    "imdb_metadata['belongs_to_collection'].fillna('0', inplace = True)"
   ]
  },
  {
   "cell_type": "code",
   "execution_count": null,
   "metadata": {},
   "outputs": [],
   "source": [
    "collection = imdb_metadata['belongs_to_collection']\n",
    "collection[collection != '0'] = '1'\n",
    "imdb_metadata['belongs_to_collection'] = collection"
   ]
  },
  {
   "cell_type": "code",
   "execution_count": null,
   "metadata": {},
   "outputs": [],
   "source": [
    "imdb_metadata.head()"
   ]
  },
  {
   "cell_type": "markdown",
   "metadata": {},
   "source": [
    "Change **dtype** for `belongs_to_collection`."
   ]
  },
  {
   "cell_type": "code",
   "execution_count": null,
   "metadata": {},
   "outputs": [],
   "source": [
    "imdb_metadata['belongs_to_collection'] = pd.to_numeric(imdb_metadata['belongs_to_collection'], errors='coerce')"
   ]
  },
  {
   "cell_type": "code",
   "execution_count": null,
   "metadata": {},
   "outputs": [],
   "source": [
    "imdb_metadata.head()"
   ]
  },
  {
   "cell_type": "markdown",
   "metadata": {},
   "source": [
    "## Set up final dataframe to be exported"
   ]
  },
  {
   "cell_type": "code",
   "execution_count": null,
   "metadata": {},
   "outputs": [],
   "source": [
    "imdb_final = imdb_metadata.loc[(imdb_metadata['budget'] != '0') & (imdb_metadata['revenue'] != 0)]\n",
    "imdb_final['belongs_to_collection'] = imdb_final['belongs_to_collection'].astype('int64')\n",
    "imdb_final.shape"
   ]
  },
  {
   "cell_type": "markdown",
   "metadata": {},
   "source": [
    "**Gross Profit**"
   ]
  },
  {
   "cell_type": "code",
   "execution_count": null,
   "metadata": {},
   "outputs": [],
   "source": [
    "imdb_final[\"gross_profit\"] = imdb_final[\"revenue\"] - imdb_final[\"budget\"]"
   ]
  },
  {
   "cell_type": "code",
   "execution_count": null,
   "metadata": {},
   "outputs": [],
   "source": [
    "print(imdb_final[\"gross_profit\"])"
   ]
  },
  {
   "cell_type": "markdown",
   "metadata": {},
   "source": [
    "## Save and export final dataset as a csv"
   ]
  },
  {
   "cell_type": "code",
   "execution_count": null,
   "metadata": {},
   "outputs": [],
   "source": [
    "# Save new dataframe as csv file to processed\n",
    "#imdb_final.to_csv (('../data/processed/imdb_final.csv'), index = False, header=True)"
   ]
  },
  {
   "cell_type": "markdown",
   "metadata": {},
   "source": [
    "# Summary"
   ]
  },
  {
   "cell_type": "code",
   "execution_count": null,
   "metadata": {},
   "outputs": [],
   "source": [
    "imdb_final.head()"
   ]
  },
  {
   "cell_type": "code",
   "execution_count": null,
   "metadata": {},
   "outputs": [],
   "source": [
    "pd.options.display.max_columns = None\n",
    "pd.options.display.max_rows = None\n",
    "imdb_final.loc[imdb_final['title'] == 'Animal Kingdom']"
   ]
  },
  {
   "cell_type": "code",
   "execution_count": null,
   "metadata": {},
   "outputs": [],
   "source": [
    "imdb_final.shape"
   ]
  },
  {
   "cell_type": "code",
   "execution_count": null,
   "metadata": {},
   "outputs": [],
   "source": [
    "imdb_final.dtypes"
   ]
  }
 ],
 "metadata": {
  "kernelspec": {
   "display_name": "Python 3.8.5 64-bit ('base': conda)",
   "language": "python",
   "name": "python385jvsc74a57bd0dca0ade3e726a953b501b15e8e990130d2b7799f14cfd9f4271676035ebe5511"
  },
  "language_info": {
   "codemirror_mode": {
    "name": "ipython",
    "version": 3
   },
   "file_extension": ".py",
   "mimetype": "text/x-python",
   "name": "python",
   "nbconvert_exporter": "python",
   "pygments_lexer": "ipython3",
   "version": "3.8.5"
  }
 },
 "nbformat": 4,
 "nbformat_minor": 4
}
