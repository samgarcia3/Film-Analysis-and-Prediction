{
 "cells": [
  {
   "cell_type": "markdown",
   "metadata": {},
   "source": [
    "# Statistics"
   ]
  },
  {
   "cell_type": "code",
   "execution_count": 2,
   "metadata": {},
   "outputs": [],
   "source": [
    "import pandas as pd\n",
    "import numpy as np\n",
    "import matplotlib.pyplot as plt\n",
    "import seaborn as sns\n",
    "from scipy.stats import norm\n",
    "from scipy import stats\n",
    "from ast import literal_eval\n",
    "from typing import Dict, List\n",
    "from collections import Counter\n",
    "import ast\n",
    "import re\n",
    "import json\n",
    "import nltk\n",
    "import re\n",
    "import csv\n",
    "import math\n",
    "from sklearn.feature_extraction.text import TfidfVectorizer\n",
    "from sklearn.model_selection import train_test_split\n",
    "\n",
    "%matplotlib inline\n",
    "\n",
    "import warnings; warnings.simplefilter('ignore')"
   ]
  },
  {
   "cell_type": "code",
   "execution_count": 4,
   "metadata": {},
   "outputs": [],
   "source": [
    "imdb_final = pd.read_csv('../../data/processed/imdb_final.csv')"
   ]
  },
  {
   "cell_type": "code",
   "execution_count": 5,
   "metadata": {},
   "outputs": [
    {
     "data": {
      "text/html": [
       "<div>\n",
       "<style scoped>\n",
       "    .dataframe tbody tr th:only-of-type {\n",
       "        vertical-align: middle;\n",
       "    }\n",
       "\n",
       "    .dataframe tbody tr th {\n",
       "        vertical-align: top;\n",
       "    }\n",
       "\n",
       "    .dataframe thead th {\n",
       "        text-align: right;\n",
       "    }\n",
       "</style>\n",
       "<table border=\"1\" class=\"dataframe\">\n",
       "  <thead>\n",
       "    <tr style=\"text-align: right;\">\n",
       "      <th></th>\n",
       "      <th>id</th>\n",
       "      <th>imdb_id</th>\n",
       "      <th>title</th>\n",
       "      <th>budget</th>\n",
       "      <th>revenue</th>\n",
       "      <th>release_date</th>\n",
       "      <th>belongs_to_collection</th>\n",
       "      <th>runtime</th>\n",
       "      <th>num_genres</th>\n",
       "      <th>all_genres</th>\n",
       "      <th>...</th>\n",
       "      <th>Why Not Productions</th>\n",
       "      <th>Wild Bunch</th>\n",
       "      <th>Working Title Films</th>\n",
       "      <th>X-Filme Creative Pool</th>\n",
       "      <th>Yash Raj Films</th>\n",
       "      <th>Yleisradio (YLE)</th>\n",
       "      <th>Zentropa Entertainments</th>\n",
       "      <th>Zweites Deutsches Fernsehen (ZDF)</th>\n",
       "      <th>Österreichischer Rundfunk (ORF)</th>\n",
       "      <th>gross_profit</th>\n",
       "    </tr>\n",
       "  </thead>\n",
       "  <tbody>\n",
       "    <tr>\n",
       "      <th>0</th>\n",
       "      <td>862</td>\n",
       "      <td>tt0114709</td>\n",
       "      <td>Toy Story</td>\n",
       "      <td>30000000</td>\n",
       "      <td>373554033</td>\n",
       "      <td>1995-10-30</td>\n",
       "      <td>1</td>\n",
       "      <td>81.0</td>\n",
       "      <td>3</td>\n",
       "      <td>Animation Comedy Family</td>\n",
       "      <td>...</td>\n",
       "      <td>0.0</td>\n",
       "      <td>0.0</td>\n",
       "      <td>0.0</td>\n",
       "      <td>0.0</td>\n",
       "      <td>0.0</td>\n",
       "      <td>0.0</td>\n",
       "      <td>0.0</td>\n",
       "      <td>0.0</td>\n",
       "      <td>0.0</td>\n",
       "      <td>343554033</td>\n",
       "    </tr>\n",
       "    <tr>\n",
       "      <th>1</th>\n",
       "      <td>8844</td>\n",
       "      <td>tt0113497</td>\n",
       "      <td>Jumanji</td>\n",
       "      <td>65000000</td>\n",
       "      <td>262797249</td>\n",
       "      <td>1995-12-15</td>\n",
       "      <td>0</td>\n",
       "      <td>104.0</td>\n",
       "      <td>3</td>\n",
       "      <td>Adventure Family Fantasy</td>\n",
       "      <td>...</td>\n",
       "      <td>0.0</td>\n",
       "      <td>0.0</td>\n",
       "      <td>0.0</td>\n",
       "      <td>0.0</td>\n",
       "      <td>0.0</td>\n",
       "      <td>0.0</td>\n",
       "      <td>0.0</td>\n",
       "      <td>0.0</td>\n",
       "      <td>0.0</td>\n",
       "      <td>197797249</td>\n",
       "    </tr>\n",
       "    <tr>\n",
       "      <th>2</th>\n",
       "      <td>31357</td>\n",
       "      <td>tt0114885</td>\n",
       "      <td>Waiting to Exhale</td>\n",
       "      <td>16000000</td>\n",
       "      <td>81452156</td>\n",
       "      <td>1995-12-22</td>\n",
       "      <td>0</td>\n",
       "      <td>127.0</td>\n",
       "      <td>3</td>\n",
       "      <td>Comedy Drama Romance</td>\n",
       "      <td>...</td>\n",
       "      <td>0.0</td>\n",
       "      <td>0.0</td>\n",
       "      <td>0.0</td>\n",
       "      <td>0.0</td>\n",
       "      <td>0.0</td>\n",
       "      <td>0.0</td>\n",
       "      <td>0.0</td>\n",
       "      <td>0.0</td>\n",
       "      <td>0.0</td>\n",
       "      <td>65452156</td>\n",
       "    </tr>\n",
       "    <tr>\n",
       "      <th>3</th>\n",
       "      <td>11862</td>\n",
       "      <td>tt0113041</td>\n",
       "      <td>Father of the Bride Part II</td>\n",
       "      <td>0</td>\n",
       "      <td>76578911</td>\n",
       "      <td>1995-02-10</td>\n",
       "      <td>1</td>\n",
       "      <td>106.0</td>\n",
       "      <td>1</td>\n",
       "      <td>Comedy</td>\n",
       "      <td>...</td>\n",
       "      <td>0.0</td>\n",
       "      <td>0.0</td>\n",
       "      <td>0.0</td>\n",
       "      <td>0.0</td>\n",
       "      <td>0.0</td>\n",
       "      <td>0.0</td>\n",
       "      <td>0.0</td>\n",
       "      <td>0.0</td>\n",
       "      <td>0.0</td>\n",
       "      <td>76578911</td>\n",
       "    </tr>\n",
       "    <tr>\n",
       "      <th>4</th>\n",
       "      <td>949</td>\n",
       "      <td>tt0113277</td>\n",
       "      <td>Heat</td>\n",
       "      <td>60000000</td>\n",
       "      <td>187436818</td>\n",
       "      <td>1995-12-15</td>\n",
       "      <td>0</td>\n",
       "      <td>170.0</td>\n",
       "      <td>4</td>\n",
       "      <td>Action Crime Drama Thriller</td>\n",
       "      <td>...</td>\n",
       "      <td>0.0</td>\n",
       "      <td>0.0</td>\n",
       "      <td>0.0</td>\n",
       "      <td>0.0</td>\n",
       "      <td>0.0</td>\n",
       "      <td>0.0</td>\n",
       "      <td>0.0</td>\n",
       "      <td>0.0</td>\n",
       "      <td>0.0</td>\n",
       "      <td>127436818</td>\n",
       "    </tr>\n",
       "  </tbody>\n",
       "</table>\n",
       "<p>5 rows × 457 columns</p>\n",
       "</div>"
      ],
      "text/plain": [
       "      id    imdb_id                        title    budget    revenue  \\\n",
       "0    862  tt0114709                    Toy Story  30000000  373554033   \n",
       "1   8844  tt0113497                      Jumanji  65000000  262797249   \n",
       "2  31357  tt0114885            Waiting to Exhale  16000000   81452156   \n",
       "3  11862  tt0113041  Father of the Bride Part II         0   76578911   \n",
       "4    949  tt0113277                         Heat  60000000  187436818   \n",
       "\n",
       "  release_date  belongs_to_collection  runtime  num_genres  \\\n",
       "0   1995-10-30                      1     81.0           3   \n",
       "1   1995-12-15                      0    104.0           3   \n",
       "2   1995-12-22                      0    127.0           3   \n",
       "3   1995-02-10                      1    106.0           1   \n",
       "4   1995-12-15                      0    170.0           4   \n",
       "\n",
       "                    all_genres  ...  Why Not Productions  Wild Bunch  \\\n",
       "0      Animation Comedy Family  ...                  0.0         0.0   \n",
       "1     Adventure Family Fantasy  ...                  0.0         0.0   \n",
       "2         Comedy Drama Romance  ...                  0.0         0.0   \n",
       "3                       Comedy  ...                  0.0         0.0   \n",
       "4  Action Crime Drama Thriller  ...                  0.0         0.0   \n",
       "\n",
       "   Working Title Films  X-Filme Creative Pool  Yash Raj Films  \\\n",
       "0                  0.0                    0.0             0.0   \n",
       "1                  0.0                    0.0             0.0   \n",
       "2                  0.0                    0.0             0.0   \n",
       "3                  0.0                    0.0             0.0   \n",
       "4                  0.0                    0.0             0.0   \n",
       "\n",
       "   Yleisradio (YLE)  Zentropa Entertainments  \\\n",
       "0               0.0                      0.0   \n",
       "1               0.0                      0.0   \n",
       "2               0.0                      0.0   \n",
       "3               0.0                      0.0   \n",
       "4               0.0                      0.0   \n",
       "\n",
       "   Zweites Deutsches Fernsehen (ZDF)  Österreichischer Rundfunk (ORF)  \\\n",
       "0                                0.0                              0.0   \n",
       "1                                0.0                              0.0   \n",
       "2                                0.0                              0.0   \n",
       "3                                0.0                              0.0   \n",
       "4                                0.0                              0.0   \n",
       "\n",
       "   gross_profit  \n",
       "0     343554033  \n",
       "1     197797249  \n",
       "2      65452156  \n",
       "3      76578911  \n",
       "4     127436818  \n",
       "\n",
       "[5 rows x 457 columns]"
      ]
     },
     "execution_count": 5,
     "metadata": {},
     "output_type": "execute_result"
    }
   ],
   "source": [
    "imdb_final.head()"
   ]
  },
  {
   "cell_type": "markdown",
   "metadata": {},
   "source": [
    "# Budget"
   ]
  },
  {
   "cell_type": "code",
   "execution_count": 14,
   "metadata": {},
   "outputs": [
    {
     "data": {
      "text/plain": [
       "(22514959.393168118, 7500000.0)"
      ]
     },
     "execution_count": 14,
     "metadata": {},
     "output_type": "execute_result"
    }
   ],
   "source": [
    "imdb_final[\"budget\"].mean(), imdb_final[\"budget\"].median()"
   ]
  },
  {
   "cell_type": "code",
   "execution_count": 10,
   "metadata": {},
   "outputs": [
    {
     "data": {
      "image/png": "[encoded data removed]",
      "text/plain": [
       "<Figure size 432x288 with 1 Axes>"
      ]
     },
     "metadata": {
      "needs_background": "light"
     },
     "output_type": "display_data"
    }
   ],
   "source": [
    "imdb_final[\"budget\"].plot(kind=\"hist\", bins=50);"
   ]
  },
  {
   "cell_type": "markdown",
   "metadata": {},
   "source": [
    "# Revenue"
   ]
  },
  {
   "cell_type": "code",
   "execution_count": 15,
   "metadata": {},
   "outputs": [
    {
     "data": {
      "text/plain": [
       "(68444613.60643001, 16803753.0)"
      ]
     },
     "execution_count": 15,
     "metadata": {},
     "output_type": "execute_result"
    }
   ],
   "source": [
    "imdb_final[\"revenue\"].mean(), imdb_final[\"revenue\"].median()"
   ]
  },
  {
   "cell_type": "code",
   "execution_count": 19,
   "metadata": {},
   "outputs": [
    {
     "data": {
      "image/png": "[encoded data removed]",
      "text/plain": [
       "<Figure size 432x288 with 1 Axes>"
      ]
     },
     "metadata": {
      "needs_background": "light"
     },
     "output_type": "display_data"
    }
   ],
   "source": [
    "imdb_final[\"revenue\"].plot(kind=\"hist\", bins=50);"
   ]
  },
  {
   "cell_type": "markdown",
   "metadata": {},
   "source": [
    "# Gross Profits"
   ]
  },
  {
   "cell_type": "code",
   "execution_count": 16,
   "metadata": {},
   "outputs": [
    {
     "data": {
      "text/plain": [
       "(45929654.21326189, 6410000.0)"
      ]
     },
     "execution_count": 16,
     "metadata": {},
     "output_type": "execute_result"
    }
   ],
   "source": [
    "imdb_final[\"gross_profit\"].mean(), imdb_final[\"gross_profit\"].median()"
   ]
  },
  {
   "cell_type": "code",
   "execution_count": 12,
   "metadata": {},
   "outputs": [
    {
     "data": {
      "image/png": "[encoded data removed]",
      "text/plain": [
       "<Figure size 432x288 with 1 Axes>"
      ]
     },
     "metadata": {
      "needs_background": "light"
     },
     "output_type": "display_data"
    }
   ],
   "source": [
    "imdb_final[\"gross_profit\"].plot(kind=\"hist\", bins=50);"
   ]
  },
  {
   "cell_type": "code",
   "execution_count": null,
   "metadata": {},
   "outputs": [],
   "source": []
  },
  {
   "cell_type": "code",
   "execution_count": null,
   "metadata": {},
   "outputs": [],
   "source": []
  },
  {
   "cell_type": "code",
   "execution_count": null,
   "metadata": {},
   "outputs": [],
   "source": []
  },
  {
   "cell_type": "code",
   "execution_count": null,
   "metadata": {},
   "outputs": [],
   "source": []
  },
  {
   "cell_type": "code",
   "execution_count": null,
   "metadata": {},
   "outputs": [],
   "source": []
  }
 ],
 "metadata": {
  "kernelspec": {
   "display_name": "Python 3.8.5 64-bit ('base': conda)",
   "language": "python",
   "name": "python385jvsc74a57bd0dca0ade3e726a953b501b15e8e990130d2b7799f14cfd9f4271676035ebe5511"
  },
  "language_info": {
   "codemirror_mode": {
    "name": "ipython",
    "version": 3
   },
   "file_extension": ".py",
   "mimetype": "text/x-python",
   "name": "python",
   "nbconvert_exporter": "python",
   "pygments_lexer": "ipython3",
   "version": "3.8.5"
  }
 },
 "nbformat": 4,
 "nbformat_minor": 4
}
